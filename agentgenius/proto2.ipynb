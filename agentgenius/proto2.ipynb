{
 "cells": [
  {
   "cell_type": "code",
   "execution_count": 1,
   "metadata": {},
   "outputs": [
    {
     "data": {
      "text/plain": [
       "<logfire._internal.main.Logfire at 0x7092c1f020f0>"
      ]
     },
     "execution_count": 1,
     "metadata": {},
     "output_type": "execute_result"
    }
   ],
   "source": [
    "import json\n",
    "from copy import deepcopy\n",
    "\n",
    "# from pydantic.dataclasses import dataclass\n",
    "from dataclasses import asdict, field\n",
    "from enum import Enum\n",
    "from typing import Any, Callable, Dict, List, Optional, Sequence, Tuple, Type, TypeVar, Union, get_args\n",
    "\n",
    "import logfire\n",
    "import nest_asyncio\n",
    "from dotenv import load_dotenv\n",
    "from IPython.display import Markdown\n",
    "from pydantic import BaseModel, ConfigDict, Field, GetCoreSchemaHandler, field_validator\n",
    "from pydantic.dataclasses import dataclass\n",
    "\n",
    "# from dataclasses import dataclass\n",
    "from pydantic_ai import Agent\n",
    "from pydantic_ai.agent import EndStrategy\n",
    "from pydantic_ai.models import KnownModelName\n",
    "from pydantic_ai.result import ResultData\n",
    "from pydantic_ai.settings import ModelSettings\n",
    "from pydantic_ai.tools import AgentDeps, Tool, ToolDefinition, ToolFuncContext, ToolFuncEither\n",
    "from pydantic_core import ValidationError, core_schema\n",
    "from rich import print\n",
    "\n",
    "# from agentgenius.builtin_tools import get_datetime, get_installed_packages, get_location_by_ip\n",
    "load_dotenv()\n",
    "\n",
    "nest_asyncio.apply()\n",
    "logfire.configure(send_to_logfire=\"if-token-present\")"
   ]
  },
  {
   "cell_type": "code",
   "execution_count": 2,
   "metadata": {},
   "outputs": [],
   "source": [
    "def get_datetime(fromat: str = \"%Y-%m-%d %H:%M:%S\") -> str:\n",
    "    \"\"\"Get the current datetime as a string in the specified python format.\"\"\"\n",
    "    from datetime import datetime\n",
    "\n",
    "    return datetime.now().strftime(fromat)"
   ]
  },
  {
   "cell_type": "code",
   "execution_count": 3,
   "metadata": {},
   "outputs": [],
   "source": [
    "ToolType = Union[str, Callable[[], str]]\n",
    "\n",
    "\n",
    "@dataclass\n",
    "class ToolDef:\n",
    "    function: ToolType = field(default=\"\", repr=True)\n",
    "\n",
    "    _function: Optional[ToolType] = field(default=None, repr=False, init=False)\n",
    "    model_config = ConfigDict(arbitrary_types_allowed=True)\n",
    "\n",
    "    def __init__(self, function: str | Callable, namespace: dict = globals()):\n",
    "        self.function = function\n",
    "        if isinstance(self.function, str):\n",
    "            self.function = function\n",
    "            self._function = self._get_callable(globals())\n",
    "        elif isinstance(self.function, Callable):\n",
    "            self._function = self.function\n",
    "            self.function = self.function.__name__\n",
    "        self.__qualname__ = f\"ToolDef.{self.function}\"\n",
    "\n",
    "    def _get_callable(self, namespace: dict) -> Callable:\n",
    "        namespace = globals() | namespace\n",
    "        return namespace.get(self.function, None)\n",
    "\n",
    "    # def __repr__(self):\n",
    "    #     return f\"ToolDef(function={self.function})\"\n",
    "\n",
    "    @property\n",
    "    def __name__(self) -> str:\n",
    "        return str(self.function)\n",
    "\n",
    "    def __call__(self):\n",
    "        return self._function"
   ]
  },
  {
   "cell_type": "code",
   "execution_count": 4,
   "metadata": {},
   "outputs": [
    {
     "data": {
      "text/html": [
       "<pre style=\"white-space:pre;overflow-x:auto;line-height:normal;font-family:Menlo,'DejaVu Sans Mono',consolas,'Courier New',monospace\"><span style=\"color: #800080; text-decoration-color: #800080; font-weight: bold\">ToolDef</span><span style=\"font-weight: bold\">(</span><span style=\"color: #808000; text-decoration-color: #808000\">function</span>=<span style=\"font-weight: bold\">&lt;</span><span style=\"color: #ff00ff; text-decoration-color: #ff00ff; font-weight: bold\">function</span><span style=\"color: #000000; text-decoration-color: #000000\"> get_datetime at </span><span style=\"color: #008080; text-decoration-color: #008080; font-weight: bold\">0x7092c08d8220</span><span style=\"font-weight: bold\">&gt;)</span>\n",
       "</pre>\n"
      ],
      "text/plain": [
       "\u001b[1;35mToolDef\u001b[0m\u001b[1m(\u001b[0m\u001b[33mfunction\u001b[0m=\u001b[1m<\u001b[0m\u001b[1;95mfunction\u001b[0m\u001b[39m get_datetime at \u001b[0m\u001b[1;36m0x7092c08d8220\u001b[0m\u001b[1m>\u001b[0m\u001b[1m)\u001b[0m\n"
      ]
     },
     "metadata": {},
     "output_type": "display_data"
    }
   ],
   "source": [
    "t_def = ToolDef(get_datetime)\n",
    "print(t_def)\n",
    "t_def()"
   ]
  },
  {
   "cell_type": "code",
   "execution_count": 5,
   "metadata": {},
   "outputs": [
    {
     "data": {
      "text/html": [
       "<pre style=\"white-space:pre;overflow-x:auto;line-height:normal;font-family:Menlo,'DejaVu Sans Mono',consolas,'Courier New',monospace\"><span style=\"color: #008080; text-decoration-color: #008080; font-weight: bold\">50</span>\n",
       "</pre>\n"
      ],
      "text/plain": [
       "\u001b[1;36m50\u001b[0m\n"
      ]
     },
     "metadata": {},
     "output_type": "display_data"
    }
   ],
   "source": [
    "from pydantic.dataclasses import dataclass\n",
    "\n",
    "\n",
    "@dataclass\n",
    "class MyClass:\n",
    "    a: int\n",
    "    b: int  # Replace 'something' with the appropriate type\n",
    "\n",
    "    def __post_init__(self):\n",
    "        if self.a:\n",
    "            self._internal = self.a * self.b  # Initialize the internal variable\n",
    "\n",
    "    def get_internal(self):\n",
    "        return getattr(self, \"_internal\", None)  # Safely access the internal variable\n",
    "\n",
    "\n",
    "# Usage\n",
    "my_instance = MyClass(a=5, b=10)\n",
    "print(my_instance.get_internal())  # Output: 50"
   ]
  },
  {
   "cell_type": "code",
   "execution_count": 6,
   "metadata": {},
   "outputs": [
    {
     "name": "stdout",
     "output_type": "stream",
     "text": [
      "21:29:49.555 agent run prompt=hello\n",
      "21:29:49.556   preparing model and tools run_step=1\n",
      "21:29:49.556   model request\n"
     ]
    },
    {
     "data": {
      "text/html": [
       "<pre style=\"white-space:pre;overflow-x:auto;line-height:normal;font-family:Menlo,'DejaVu Sans Mono',consolas,'Courier New',monospace\">Get me foobar.\n",
       "</pre>\n"
      ],
      "text/plain": [
       "Get me foobar.\n"
      ]
     },
     "metadata": {},
     "output_type": "display_data"
    },
    {
     "data": {
      "text/html": [
       "<pre style=\"white-space:pre;overflow-x:auto;line-height:normal;font-family:Menlo,'DejaVu Sans Mono',consolas,'Courier New',monospace\"><span style=\"font-weight: bold\">{</span>\n",
       "    <span style=\"color: #008000; text-decoration-color: #008000\">'properties'</span>: <span style=\"font-weight: bold\">{</span>\n",
       "        <span style=\"color: #008000; text-decoration-color: #008000\">'a'</span>: <span style=\"font-weight: bold\">{</span><span style=\"color: #008000; text-decoration-color: #008000\">'description'</span>: <span style=\"color: #008000; text-decoration-color: #008000\">'apple pie'</span>, <span style=\"color: #008000; text-decoration-color: #008000\">'title'</span>: <span style=\"color: #008000; text-decoration-color: #008000\">'A'</span>, <span style=\"color: #008000; text-decoration-color: #008000\">'type'</span>: <span style=\"color: #008000; text-decoration-color: #008000\">'integer'</span><span style=\"font-weight: bold\">}</span>,\n",
       "        <span style=\"color: #008000; text-decoration-color: #008000\">'b'</span>: <span style=\"font-weight: bold\">{</span><span style=\"color: #008000; text-decoration-color: #008000\">'description'</span>: <span style=\"color: #008000; text-decoration-color: #008000\">'banana cake'</span>, <span style=\"color: #008000; text-decoration-color: #008000\">'title'</span>: <span style=\"color: #008000; text-decoration-color: #008000\">'B'</span>, <span style=\"color: #008000; text-decoration-color: #008000\">'type'</span>: <span style=\"color: #008000; text-decoration-color: #008000\">'string'</span><span style=\"font-weight: bold\">}</span>,\n",
       "        <span style=\"color: #008000; text-decoration-color: #008000\">'c'</span>: <span style=\"font-weight: bold\">{</span>\n",
       "            <span style=\"color: #008000; text-decoration-color: #008000\">'additionalProperties'</span>: <span style=\"font-weight: bold\">{</span><span style=\"color: #008000; text-decoration-color: #008000\">'items'</span>: <span style=\"font-weight: bold\">{</span><span style=\"color: #008000; text-decoration-color: #008000\">'type'</span>: <span style=\"color: #008000; text-decoration-color: #008000\">'number'</span><span style=\"font-weight: bold\">}</span>, <span style=\"color: #008000; text-decoration-color: #008000\">'type'</span>: <span style=\"color: #008000; text-decoration-color: #008000\">'array'</span><span style=\"font-weight: bold\">}</span>,\n",
       "            <span style=\"color: #008000; text-decoration-color: #008000\">'description'</span>: <span style=\"color: #008000; text-decoration-color: #008000\">'carrot smoothie'</span>,\n",
       "            <span style=\"color: #008000; text-decoration-color: #008000\">'title'</span>: <span style=\"color: #008000; text-decoration-color: #008000\">'C'</span>,\n",
       "            <span style=\"color: #008000; text-decoration-color: #008000\">'type'</span>: <span style=\"color: #008000; text-decoration-color: #008000\">'object'</span>\n",
       "        <span style=\"font-weight: bold\">}</span>\n",
       "    <span style=\"font-weight: bold\">}</span>,\n",
       "    <span style=\"color: #008000; text-decoration-color: #008000\">'required'</span>: <span style=\"font-weight: bold\">[</span><span style=\"color: #008000; text-decoration-color: #008000\">'a'</span>, <span style=\"color: #008000; text-decoration-color: #008000\">'b'</span>, <span style=\"color: #008000; text-decoration-color: #008000\">'c'</span><span style=\"font-weight: bold\">]</span>,\n",
       "    <span style=\"color: #008000; text-decoration-color: #008000\">'type'</span>: <span style=\"color: #008000; text-decoration-color: #008000\">'object'</span>,\n",
       "    <span style=\"color: #008000; text-decoration-color: #008000\">'additionalProperties'</span>: <span style=\"color: #ff0000; text-decoration-color: #ff0000; font-style: italic\">False</span>\n",
       "<span style=\"font-weight: bold\">}</span>\n",
       "</pre>\n"
      ],
      "text/plain": [
       "\u001b[1m{\u001b[0m\n",
       "    \u001b[32m'properties'\u001b[0m: \u001b[1m{\u001b[0m\n",
       "        \u001b[32m'a'\u001b[0m: \u001b[1m{\u001b[0m\u001b[32m'description'\u001b[0m: \u001b[32m'apple pie'\u001b[0m, \u001b[32m'title'\u001b[0m: \u001b[32m'A'\u001b[0m, \u001b[32m'type'\u001b[0m: \u001b[32m'integer'\u001b[0m\u001b[1m}\u001b[0m,\n",
       "        \u001b[32m'b'\u001b[0m: \u001b[1m{\u001b[0m\u001b[32m'description'\u001b[0m: \u001b[32m'banana cake'\u001b[0m, \u001b[32m'title'\u001b[0m: \u001b[32m'B'\u001b[0m, \u001b[32m'type'\u001b[0m: \u001b[32m'string'\u001b[0m\u001b[1m}\u001b[0m,\n",
       "        \u001b[32m'c'\u001b[0m: \u001b[1m{\u001b[0m\n",
       "            \u001b[32m'additionalProperties'\u001b[0m: \u001b[1m{\u001b[0m\u001b[32m'items'\u001b[0m: \u001b[1m{\u001b[0m\u001b[32m'type'\u001b[0m: \u001b[32m'number'\u001b[0m\u001b[1m}\u001b[0m, \u001b[32m'type'\u001b[0m: \u001b[32m'array'\u001b[0m\u001b[1m}\u001b[0m,\n",
       "            \u001b[32m'description'\u001b[0m: \u001b[32m'carrot smoothie'\u001b[0m,\n",
       "            \u001b[32m'title'\u001b[0m: \u001b[32m'C'\u001b[0m,\n",
       "            \u001b[32m'type'\u001b[0m: \u001b[32m'object'\u001b[0m\n",
       "        \u001b[1m}\u001b[0m\n",
       "    \u001b[1m}\u001b[0m,\n",
       "    \u001b[32m'required'\u001b[0m: \u001b[1m[\u001b[0m\u001b[32m'a'\u001b[0m, \u001b[32m'b'\u001b[0m, \u001b[32m'c'\u001b[0m\u001b[1m]\u001b[0m,\n",
       "    \u001b[32m'type'\u001b[0m: \u001b[32m'object'\u001b[0m,\n",
       "    \u001b[32m'additionalProperties'\u001b[0m: \u001b[3;91mFalse\u001b[0m\n",
       "\u001b[1m}\u001b[0m\n"
      ]
     },
     "metadata": {},
     "output_type": "display_data"
    },
    {
     "name": "stdout",
     "output_type": "stream",
     "text": [
      "21:29:49.755   handle model response\n"
     ]
    },
    {
     "data": {
      "text/plain": [
       "RunResult(_all_messages=[ModelRequest(parts=[UserPromptPart(content='hello', timestamp=datetime.datetime(2025, 1, 13, 21, 29, 49, 556040, tzinfo=datetime.timezone.utc), part_kind='user-prompt')], kind='request'), ModelResponse(parts=[TextPart(content='foobar', part_kind='text')], timestamp=datetime.datetime(2025, 1, 13, 21, 29, 49, 560769, tzinfo=datetime.timezone.utc), kind='response')], _new_message_index=0, data='foobar', _result_tool_name=None, _usage=Usage(requests=1, request_tokens=51, response_tokens=1, total_tokens=52, details=None))"
      ]
     },
     "execution_count": 6,
     "metadata": {},
     "output_type": "execute_result"
    }
   ],
   "source": [
    "from pydantic_ai import Agent\n",
    "from pydantic_ai.messages import ModelMessage, ModelResponse\n",
    "from pydantic_ai.models.function import AgentInfo, FunctionModel\n",
    "\n",
    "agent = Agent()\n",
    "\n",
    "\n",
    "@agent.tool_plain\n",
    "def foobar(a: int, b: str, c: dict[str, list[float]]) -> str:\n",
    "    \"\"\"Get me foobar.\n",
    "\n",
    "    Args:\n",
    "        a: apple pie\n",
    "        b: banana cake\n",
    "        c: carrot smoothie\n",
    "    \"\"\"\n",
    "    return f\"{a} {b} {c}\"\n",
    "\n",
    "\n",
    "def print_schema(messages: list[ModelMessage], info: AgentInfo) -> ModelResponse:\n",
    "    tool = info.function_tools[0]\n",
    "    print(tool.description)\n",
    "    # > Get me foobar.\n",
    "    print(tool.parameters_json_schema)\n",
    "    \"\"\"\n",
    "    {\n",
    "        'properties': {\n",
    "            'a': {'description': 'apple pie', 'title': 'A', 'type': 'integer'},\n",
    "            'b': {'description': 'banana cake', 'title': 'B', 'type': 'string'},\n",
    "            'c': {\n",
    "                'additionalProperties': {'items': {'type': 'number'}, 'type': 'array'},\n",
    "                'description': 'carrot smoothie',\n",
    "                'title': 'C',\n",
    "                'type': 'object',\n",
    "            },\n",
    "        },\n",
    "        'required': ['a', 'b', 'c'],\n",
    "        'type': 'object',\n",
    "        'additionalProperties': False,\n",
    "    }\n",
    "    \"\"\"\n",
    "    return ModelResponse.from_text(content=\"foobar\")\n",
    "\n",
    "\n",
    "agent.run_sync(\"hello\", model=FunctionModel(print_schema))"
   ]
  },
  {
   "cell_type": "code",
   "execution_count": 7,
   "metadata": {},
   "outputs": [],
   "source": [
    "@dataclass\n",
    "class ToolDef:\n",
    "    name: str = field(default=\"\", repr=True)\n",
    "    # _function: Optional[Tool] = field(default=None, repr=False, init=False)\n",
    "\n",
    "    model_config = ConfigDict(arbitrary_types_allowed=True)\n",
    "\n",
    "    def __post_init__(self):\n",
    "        self._function = self._get_callable(namespace=globals())\n",
    "        self.__qualname__ = f\"ToolDef.{self.name}\"\n",
    "\n",
    "    def _get_func(self):\n",
    "        return getattr(self, \"_function\", None)\n",
    "\n",
    "    def _get_callable(self, *, namespace: dict) -> Callable:\n",
    "        result = namespace.get(self.name, None)\n",
    "        if result:\n",
    "            self._function = result\n",
    "            return result\n",
    "        else:\n",
    "            raise ValueError(f\"Tool {self.name} not found in namespace\")\n",
    "\n",
    "    def __call__(self):\n",
    "        return self._function()\n",
    "\n",
    "    # def __repr__(self):\n",
    "    #     return f'ToolDef(name=\"{self.name}\")'\n",
    "\n",
    "    # def __getitem__(self, item):\n",
    "    #     return self.getattr(self, \"_function\")\n",
    "\n",
    "    @property\n",
    "    def __name__(self) -> str:\n",
    "        return self.name\n",
    "\n",
    "    # def model_dump(self, *args, **kwargs):\n",
    "    #     kwargs[\"exclude\"] = {\"_function\", *kwargs.get(\"exclude\", set())}\n",
    "    #     return super().model_dump(*args, **kwargs)\n",
    "\n",
    "\n",
    "# TypeVar(\"ToolList\", bound=List[str])\n",
    "# ToolList = TypeVar(\"ToolList\", bound=List[ToolDef])"
   ]
  },
  {
   "cell_type": "code",
   "execution_count": 8,
   "metadata": {},
   "outputs": [
    {
     "data": {
      "text/html": [
       "<pre style=\"white-space:pre;overflow-x:auto;line-height:normal;font-family:Menlo,'DejaVu Sans Mono',consolas,'Courier New',monospace\"><span style=\"color: #800080; text-decoration-color: #800080; font-weight: bold\">ToolDef</span><span style=\"font-weight: bold\">(</span><span style=\"color: #808000; text-decoration-color: #808000\">name</span>=<span style=\"color: #008000; text-decoration-color: #008000\">'get_datetime'</span><span style=\"font-weight: bold\">)</span>\n",
       "</pre>\n"
      ],
      "text/plain": [
       "\u001b[1;35mToolDef\u001b[0m\u001b[1m(\u001b[0m\u001b[33mname\u001b[0m=\u001b[32m'get_datetime'\u001b[0m\u001b[1m)\u001b[0m\n"
      ]
     },
     "metadata": {},
     "output_type": "display_data"
    },
    {
     "data": {
      "text/plain": [
       "'2025-01-13 22:29:49'"
      ]
     },
     "execution_count": 8,
     "metadata": {},
     "output_type": "execute_result"
    }
   ],
   "source": [
    "tool = ToolDef(\"get_datetime\")\n",
    "print(tool)\n",
    "tool()"
   ]
  },
  {
   "cell_type": "code",
   "execution_count": 9,
   "metadata": {},
   "outputs": [
    {
     "data": {
      "text/plain": [
       "__main__.ToolDef"
      ]
     },
     "execution_count": 9,
     "metadata": {},
     "output_type": "execute_result"
    }
   ],
   "source": [
    "type(tool)"
   ]
  },
  {
   "cell_type": "code",
   "execution_count": 10,
   "metadata": {},
   "outputs": [],
   "source": [
    "ToolType = Union[str, Callable, Sequence[Union[str, Callable]]]\n",
    "\n",
    "\n",
    "@dataclass(init=False)\n",
    "class ToolSet:\n",
    "    tools: List[ToolDef] = field(init=True, default_factory=list, repr=True)\n",
    "\n",
    "    @field_validator(\"tools\", mode=\"plain\")\n",
    "    @classmethod\n",
    "    def accept_other(cls, v):\n",
    "        if isinstance(v, (list, str, Callable)):\n",
    "            return v\n",
    "        else:\n",
    "            raise ValueError(f\"Tool must be a callable or a string, not {type(v)}\")\n",
    "\n",
    "    def __post_init__(self):\n",
    "        tools = deepcopy(self.tools)\n",
    "        self.tools = []\n",
    "        for tool in tools:\n",
    "            self.add(tool)\n",
    "\n",
    "    def add(self, tool: ToolType) -> None:\n",
    "        if isinstance(tool, Callable):\n",
    "            t = ToolDef(name=tool.__name__)\n",
    "            self.tools.append(t)\n",
    "        elif isinstance(tool, str):\n",
    "            t = ToolDef(name=tool)\n",
    "            self.tools.append(t)\n",
    "        elif isinstance(tool, list):\n",
    "            for t in tool:\n",
    "                print(t)\n",
    "                self.add(t)\n",
    "        else:\n",
    "            raise ValueError(f\"Tool must be a callable or a string, not {type(tool)}\")\n",
    "\n",
    "    def remove(self, name: str) -> Tool:\n",
    "        tool = self.get(name)\n",
    "        if tool:\n",
    "            self.tools.remove(tool)\n",
    "        return tool\n",
    "\n",
    "    def get(self, name: str, default=None, *, namespace: dict = globals()):\n",
    "        return next((tool._get_callable(namespace=globals()) for tool in self.tools if tool.name == name), default)\n",
    "\n",
    "    def __iter__(self):\n",
    "        return iter(self.tools)\n",
    "\n",
    "    # def __getitem__(self, item):\n",
    "    #     return self.get(item)\n",
    "    def __getitem__(self, item):\n",
    "        return self.tools[item]._get_callable(namespace=globals())\n",
    "\n",
    "    def __len__(self):\n",
    "        return len(self.tools)\n",
    "\n",
    "    def __contains__(self, value):\n",
    "        if isinstance(value, str):\n",
    "            return self.get(value) is not None\n",
    "        elif isinstance(value, Callable):\n",
    "            return value in self.tools\n",
    "        else:\n",
    "            raise ValueError(\"value must be a type of string or callable\")\n",
    "\n",
    "    def __str__(self):\n",
    "        return str(self.tools)\n",
    "\n",
    "    def all(self):\n",
    "        return [tool.name for tool in self.tools]\n",
    "\n",
    "    def init(self, *, namespace: dict = globals()):\n",
    "        # return [(tool._get_callable(namespace=namespace).__name__) for tool in self.tools]\n",
    "        for tool in self.tools:\n",
    "            tool._get_callable(namespace=namespace)"
   ]
  },
  {
   "cell_type": "code",
   "execution_count": 11,
   "metadata": {},
   "outputs": [
    {
     "data": {
      "text/html": [
       "<pre style=\"white-space:pre;overflow-x:auto;line-height:normal;font-family:Menlo,'DejaVu Sans Mono',consolas,'Courier New',monospace\"><span style=\"color: #800080; text-decoration-color: #800080; font-weight: bold\">ToolSet</span><span style=\"font-weight: bold\">(</span><span style=\"color: #808000; text-decoration-color: #808000\">tools</span>=<span style=\"font-weight: bold\">[])</span>\n",
       "</pre>\n"
      ],
      "text/plain": [
       "\u001b[1;35mToolSet\u001b[0m\u001b[1m(\u001b[0m\u001b[33mtools\u001b[0m=\u001b[1m[\u001b[0m\u001b[1m]\u001b[0m\u001b[1m)\u001b[0m\n"
      ]
     },
     "metadata": {},
     "output_type": "display_data"
    },
    {
     "data": {
      "text/html": [
       "<pre style=\"white-space:pre;overflow-x:auto;line-height:normal;font-family:Menlo,'DejaVu Sans Mono',consolas,'Courier New',monospace\"><span style=\"color: #800080; text-decoration-color: #800080; font-weight: bold\">ToolSet</span><span style=\"font-weight: bold\">(</span><span style=\"color: #808000; text-decoration-color: #808000\">tools</span>=<span style=\"font-weight: bold\">[</span><span style=\"color: #800080; text-decoration-color: #800080; font-weight: bold\">ToolDef</span><span style=\"font-weight: bold\">(</span><span style=\"color: #808000; text-decoration-color: #808000\">name</span>=<span style=\"color: #008000; text-decoration-color: #008000\">'test'</span><span style=\"font-weight: bold\">)])</span>\n",
       "</pre>\n"
      ],
      "text/plain": [
       "\u001b[1;35mToolSet\u001b[0m\u001b[1m(\u001b[0m\u001b[33mtools\u001b[0m=\u001b[1m[\u001b[0m\u001b[1;35mToolDef\u001b[0m\u001b[1m(\u001b[0m\u001b[33mname\u001b[0m=\u001b[32m'test'\u001b[0m\u001b[1m)\u001b[0m\u001b[1m]\u001b[0m\u001b[1m)\u001b[0m\n"
      ]
     },
     "metadata": {},
     "output_type": "display_data"
    },
    {
     "data": {
      "text/html": [
       "<pre style=\"white-space:pre;overflow-x:auto;line-height:normal;font-family:Menlo,'DejaVu Sans Mono',consolas,'Courier New',monospace\"><span style=\"color: #800080; text-decoration-color: #800080; font-weight: bold\">ToolSet</span><span style=\"font-weight: bold\">(</span><span style=\"color: #808000; text-decoration-color: #808000\">tools</span>=<span style=\"font-weight: bold\">[</span><span style=\"color: #800080; text-decoration-color: #800080; font-weight: bold\">ToolDef</span><span style=\"font-weight: bold\">(</span><span style=\"color: #808000; text-decoration-color: #808000\">name</span>=<span style=\"color: #008000; text-decoration-color: #008000\">'test'</span><span style=\"font-weight: bold\">)])</span>\n",
       "</pre>\n"
      ],
      "text/plain": [
       "\u001b[1;35mToolSet\u001b[0m\u001b[1m(\u001b[0m\u001b[33mtools\u001b[0m=\u001b[1m[\u001b[0m\u001b[1;35mToolDef\u001b[0m\u001b[1m(\u001b[0m\u001b[33mname\u001b[0m=\u001b[32m'test'\u001b[0m\u001b[1m)\u001b[0m\u001b[1m]\u001b[0m\u001b[1m)\u001b[0m\n"
      ]
     },
     "metadata": {},
     "output_type": "display_data"
    },
    {
     "data": {
      "text/html": [
       "<pre style=\"white-space:pre;overflow-x:auto;line-height:normal;font-family:Menlo,'DejaVu Sans Mono',consolas,'Courier New',monospace\"><span style=\"color: #800080; text-decoration-color: #800080; font-weight: bold\">ToolSet</span><span style=\"font-weight: bold\">(</span><span style=\"color: #808000; text-decoration-color: #808000\">tools</span>=<span style=\"font-weight: bold\">[</span><span style=\"color: #800080; text-decoration-color: #800080; font-weight: bold\">ToolDef</span><span style=\"font-weight: bold\">(</span><span style=\"color: #808000; text-decoration-color: #808000\">name</span>=<span style=\"color: #008000; text-decoration-color: #008000\">'test'</span><span style=\"font-weight: bold\">)])</span>\n",
       "</pre>\n"
      ],
      "text/plain": [
       "\u001b[1;35mToolSet\u001b[0m\u001b[1m(\u001b[0m\u001b[33mtools\u001b[0m=\u001b[1m[\u001b[0m\u001b[1;35mToolDef\u001b[0m\u001b[1m(\u001b[0m\u001b[33mname\u001b[0m=\u001b[32m'test'\u001b[0m\u001b[1m)\u001b[0m\u001b[1m]\u001b[0m\u001b[1m)\u001b[0m\n"
      ]
     },
     "metadata": {},
     "output_type": "display_data"
    },
    {
     "data": {
      "text/html": [
       "<pre style=\"white-space:pre;overflow-x:auto;line-height:normal;font-family:Menlo,'DejaVu Sans Mono',consolas,'Courier New',monospace\"><span style=\"color: #800080; text-decoration-color: #800080; font-weight: bold\">ToolSet</span><span style=\"font-weight: bold\">(</span><span style=\"color: #808000; text-decoration-color: #808000\">tools</span>=<span style=\"font-weight: bold\">[</span><span style=\"color: #800080; text-decoration-color: #800080; font-weight: bold\">ToolDef</span><span style=\"font-weight: bold\">(</span><span style=\"color: #808000; text-decoration-color: #808000\">name</span>=<span style=\"color: #008000; text-decoration-color: #008000\">'test'</span><span style=\"font-weight: bold\">)</span>, <span style=\"color: #800080; text-decoration-color: #800080; font-weight: bold\">ToolDef</span><span style=\"font-weight: bold\">(</span><span style=\"color: #808000; text-decoration-color: #808000\">name</span>=<span style=\"color: #008000; text-decoration-color: #008000\">'test2'</span><span style=\"font-weight: bold\">)])</span>\n",
       "</pre>\n"
      ],
      "text/plain": [
       "\u001b[1;35mToolSet\u001b[0m\u001b[1m(\u001b[0m\u001b[33mtools\u001b[0m=\u001b[1m[\u001b[0m\u001b[1;35mToolDef\u001b[0m\u001b[1m(\u001b[0m\u001b[33mname\u001b[0m=\u001b[32m'test'\u001b[0m\u001b[1m)\u001b[0m, \u001b[1;35mToolDef\u001b[0m\u001b[1m(\u001b[0m\u001b[33mname\u001b[0m=\u001b[32m'test2'\u001b[0m\u001b[1m)\u001b[0m\u001b[1m]\u001b[0m\u001b[1m)\u001b[0m\n"
      ]
     },
     "metadata": {},
     "output_type": "display_data"
    },
    {
     "data": {
      "text/html": [
       "<pre style=\"white-space:pre;overflow-x:auto;line-height:normal;font-family:Menlo,'DejaVu Sans Mono',consolas,'Courier New',monospace\"><span style=\"font-weight: bold\">[</span><span style=\"color: #008000; text-decoration-color: #008000\">'test'</span>, <span style=\"color: #008000; text-decoration-color: #008000\">'test2'</span><span style=\"font-weight: bold\">]</span>\n",
       "</pre>\n"
      ],
      "text/plain": [
       "\u001b[1m[\u001b[0m\u001b[32m'test'\u001b[0m, \u001b[32m'test2'\u001b[0m\u001b[1m]\u001b[0m\n"
      ]
     },
     "metadata": {},
     "output_type": "display_data"
    },
    {
     "data": {
      "text/html": [
       "<pre style=\"white-space:pre;overflow-x:auto;line-height:normal;font-family:Menlo,'DejaVu Sans Mono',consolas,'Courier New',monospace\"><span style=\"color: #008080; text-decoration-color: #008080; font-weight: bold\">1</span> passed\n",
       "</pre>\n"
      ],
      "text/plain": [
       "\u001b[1;36m1\u001b[0m passed\n"
      ]
     },
     "metadata": {},
     "output_type": "display_data"
    },
    {
     "data": {
      "text/html": [
       "<pre style=\"white-space:pre;overflow-x:auto;line-height:normal;font-family:Menlo,'DejaVu Sans Mono',consolas,'Courier New',monospace\"><span style=\"color: #008080; text-decoration-color: #008080; font-weight: bold\">1</span> passed\n",
       "</pre>\n"
      ],
      "text/plain": [
       "\u001b[1;36m1\u001b[0m passed\n"
      ]
     },
     "metadata": {},
     "output_type": "display_data"
    },
    {
     "data": {
      "text/html": [
       "<pre style=\"white-space:pre;overflow-x:auto;line-height:normal;font-family:Menlo,'DejaVu Sans Mono',consolas,'Courier New',monospace\">test\n",
       "</pre>\n"
      ],
      "text/plain": [
       "test\n"
      ]
     },
     "metadata": {},
     "output_type": "display_data"
    }
   ],
   "source": [
    "# ToolSet = list[ToolDefinition]\n",
    "\n",
    "\n",
    "def test(_: int = 0):\n",
    "    \"\"\"Test tool.\"\"\"\n",
    "    return \"1 passed\"\n",
    "\n",
    "\n",
    "def test2():\n",
    "    \"\"\"Test tool.\"\"\"\n",
    "    return \"2 passed\"\n",
    "\n",
    "\n",
    "tset = ToolSet()\n",
    "print(tset)\n",
    "\n",
    "# try:\n",
    "#     tset = ToolSet([Tool(test)])\n",
    "# except ValueError as e:\n",
    "#     print(\"Error:\", e)\n",
    "\n",
    "tset.add(test)\n",
    "print(tset)\n",
    "\n",
    "tset = ToolSet([\"test\"])\n",
    "print(tset)\n",
    "\n",
    "tset = ToolSet([test])\n",
    "print(tset)\n",
    "\n",
    "tset = ToolSet([test, test2])\n",
    "print(tset)\n",
    "print(tset.all())\n",
    "t = tset.get(\"test\")\n",
    "print(t())\n",
    "\n",
    "print(tset[0]())\n",
    "# print(tset[\"test\"]())\n",
    "print(t.__name__)\n",
    "# print(f\"{json.dumps(t)=}\", end=\"\\n\\n\")"
   ]
  },
  {
   "cell_type": "code",
   "execution_count": 12,
   "metadata": {},
   "outputs": [],
   "source": [
    "Toolset = List[Tool]"
   ]
  },
  {
   "cell_type": "code",
   "execution_count": 13,
   "metadata": {},
   "outputs": [],
   "source": [
    "# @dataclass\n",
    "# class AgentParams:\n",
    "#     params: dict[str, Any]\n",
    "#     # result_type: type[ResultData] = str,\n",
    "#     # deps_type: type[AgentDeps] = NoneType,\n",
    "#     # model_settings: ModelSettings | None = None,\n",
    "#     # retries: int = 1,\n",
    "#     # result_tool_name: str = 'final_result',\n",
    "#     # result_tool_description: str | None = None,\n",
    "#     # result_retries: int | None = None,\n",
    "#     # tools: Sequence[Tool[AgentDeps] | ToolFuncEither[AgentDeps, ...]] = (),\n",
    "#     # defer_model_check: bool = False,\n",
    "#     # end_strategy: EndStrategy = 'early',\n",
    "\n",
    "\n",
    "AgentParams = Dict[str, Any]\n",
    "\n",
    "\n",
    "@dataclass\n",
    "class AgentDef:\n",
    "    model: KnownModelName\n",
    "    name: str\n",
    "    system_prompt: str\n",
    "    params: AgentParams = field(default_factory=dict, repr=True)"
   ]
  },
  {
   "cell_type": "code",
   "execution_count": 14,
   "metadata": {},
   "outputs": [
    {
     "data": {
      "text/html": [
       "<pre style=\"white-space:pre;overflow-x:auto;line-height:normal;font-family:Menlo,'DejaVu Sans Mono',consolas,'Courier New',monospace\"><span style=\"color: #800080; text-decoration-color: #800080; font-weight: bold\">AgentDef</span><span style=\"font-weight: bold\">(</span>\n",
       "    <span style=\"color: #808000; text-decoration-color: #808000\">model</span>=<span style=\"color: #008000; text-decoration-color: #008000\">'openai:gpt-4o-mini'</span>,\n",
       "    <span style=\"color: #808000; text-decoration-color: #808000\">name</span>=<span style=\"color: #008000; text-decoration-color: #008000\">'planner'</span>,\n",
       "    <span style=\"color: #808000; text-decoration-color: #808000\">system_prompt</span>=<span style=\"color: #008000; text-decoration-color: #008000\">'You are a planner. your goal is to make a step by step plan for other agents. Do not answer the </span>\n",
       "<span style=\"color: #008000; text-decoration-color: #008000\">user questions. Just make a plan how to do this.'</span>,\n",
       "    <span style=\"color: #808000; text-decoration-color: #808000\">params</span>=<span style=\"font-weight: bold\">{</span><span style=\"color: #008000; text-decoration-color: #008000\">'result_type'</span>: <span style=\"color: #008000; text-decoration-color: #008000\">'TaskDef'</span>, <span style=\"color: #008000; text-decoration-color: #008000\">'retries'</span>: <span style=\"color: #008000; text-decoration-color: #008000\">'3'</span><span style=\"font-weight: bold\">}</span>\n",
       "<span style=\"font-weight: bold\">)</span>\n",
       "</pre>\n"
      ],
      "text/plain": [
       "\u001b[1;35mAgentDef\u001b[0m\u001b[1m(\u001b[0m\n",
       "    \u001b[33mmodel\u001b[0m=\u001b[32m'openai:gpt-4o-mini'\u001b[0m,\n",
       "    \u001b[33mname\u001b[0m=\u001b[32m'planner'\u001b[0m,\n",
       "    \u001b[33msystem_prompt\u001b[0m=\u001b[32m'You are a planner. your goal is to make a step by step plan for other agents. Do not answer the \u001b[0m\n",
       "\u001b[32muser questions. Just make a plan how to do this.'\u001b[0m,\n",
       "    \u001b[33mparams\u001b[0m=\u001b[1m{\u001b[0m\u001b[32m'result_type'\u001b[0m: \u001b[32m'TaskDef'\u001b[0m, \u001b[32m'retries'\u001b[0m: \u001b[32m'3'\u001b[0m\u001b[1m}\u001b[0m\n",
       "\u001b[1m)\u001b[0m\n"
      ]
     },
     "metadata": {},
     "output_type": "display_data"
    },
    {
     "data": {
      "text/html": [
       "<pre style=\"white-space:pre;overflow-x:auto;line-height:normal;font-family:Menlo,'DejaVu Sans Mono',consolas,'Courier New',monospace\"><span style=\"color: #800080; text-decoration-color: #800080; font-weight: bold\">AgentDef</span><span style=\"font-weight: bold\">(</span><span style=\"color: #808000; text-decoration-color: #808000\">model</span>=<span style=\"color: #008000; text-decoration-color: #008000\">'openai:gpt-4o-mini'</span>, <span style=\"color: #808000; text-decoration-color: #808000\">name</span>=<span style=\"color: #008000; text-decoration-color: #008000\">'date agent'</span>, <span style=\"color: #808000; text-decoration-color: #808000\">system_prompt</span>=<span style=\"color: #008000; text-decoration-color: #008000\">'You are date agent.'</span>, <span style=\"color: #808000; text-decoration-color: #808000\">params</span>=<span style=\"font-weight: bold\">{})</span>\n",
       "</pre>\n"
      ],
      "text/plain": [
       "\u001b[1;35mAgentDef\u001b[0m\u001b[1m(\u001b[0m\u001b[33mmodel\u001b[0m=\u001b[32m'openai:gpt-4o-mini'\u001b[0m, \u001b[33mname\u001b[0m=\u001b[32m'date agent'\u001b[0m, \u001b[33msystem_prompt\u001b[0m=\u001b[32m'You are date agent.'\u001b[0m, \u001b[33mparams\u001b[0m=\u001b[1m{\u001b[0m\u001b[1m}\u001b[0m\u001b[1m)\u001b[0m\n"
      ]
     },
     "metadata": {},
     "output_type": "display_data"
    }
   ],
   "source": [
    "a1 = AgentDef(\n",
    "    model=\"openai:gpt-4o-mini\",\n",
    "    name=\"planner\",\n",
    "    system_prompt=\"You are a planner. your goal is to make a step by step plan for other agents. Do not answer the user questions. Just make a plan how to do this.\",\n",
    "    params={\n",
    "        \"result_type\": \"TaskDef\",\n",
    "        \"retries\": \"3\",\n",
    "    },\n",
    ")\n",
    "a2 = AgentDef(\n",
    "    model=\"openai:gpt-4o-mini\",\n",
    "    name=\"date agent\",\n",
    "    system_prompt=\"You are date agent.\",\n",
    ")\n",
    "print(a1)\n",
    "print(a2)"
   ]
  },
  {
   "cell_type": "code",
   "execution_count": 15,
   "metadata": {},
   "outputs": [
    {
     "data": {
      "text/html": [
       "<pre style=\"white-space:pre;overflow-x:auto;line-height:normal;font-family:Menlo,'DejaVu Sans Mono',consolas,'Courier New',monospace\"><span style=\"color: #800080; text-decoration-color: #800080; font-weight: bold\">avilable_agents</span><span style=\"font-weight: bold\">()</span>=<span style=\"font-weight: bold\">[</span><span style=\"color: #800080; text-decoration-color: #800080; font-weight: bold\">AgentDef</span><span style=\"font-weight: bold\">(</span><span style=\"color: #808000; text-decoration-color: #808000\">model</span>=<span style=\"color: #008000; text-decoration-color: #008000\">'openai:gpt-4o-mini'</span>, <span style=\"color: #808000; text-decoration-color: #808000\">name</span>=<span style=\"color: #008000; text-decoration-color: #008000\">'planner'</span>, <span style=\"color: #808000; text-decoration-color: #808000\">system_prompt</span>=<span style=\"color: #008000; text-decoration-color: #008000\">'You are a planner. your goal</span>\n",
       "<span style=\"color: #008000; text-decoration-color: #008000\">is to make a step by step plan for other agents. Do not answer the user questions. Just make a plan how to do </span>\n",
       "<span style=\"color: #008000; text-decoration-color: #008000\">this.'</span>, <span style=\"color: #808000; text-decoration-color: #808000\">params</span>=<span style=\"font-weight: bold\">{</span><span style=\"color: #008000; text-decoration-color: #008000\">'result_type'</span>: <span style=\"color: #008000; text-decoration-color: #008000\">'TaskDef'</span>, <span style=\"color: #008000; text-decoration-color: #008000\">'retries'</span>: <span style=\"color: #008000; text-decoration-color: #008000\">'3'</span><span style=\"font-weight: bold\">})</span>, <span style=\"color: #800080; text-decoration-color: #800080; font-weight: bold\">AgentDef</span><span style=\"font-weight: bold\">(</span><span style=\"color: #808000; text-decoration-color: #808000\">model</span>=<span style=\"color: #008000; text-decoration-color: #008000\">'openai:gpt-4o-mini'</span>, <span style=\"color: #808000; text-decoration-color: #808000\">name</span>=<span style=\"color: #008000; text-decoration-color: #008000\">'date agent'</span>,\n",
       "<span style=\"color: #808000; text-decoration-color: #808000\">system_prompt</span>=<span style=\"color: #008000; text-decoration-color: #008000\">'You are date agent.'</span>, <span style=\"color: #808000; text-decoration-color: #808000\">params</span>=<span style=\"font-weight: bold\">{})]</span>\n",
       "\n",
       "</pre>\n"
      ],
      "text/plain": [
       "\u001b[1;35mavilable_agents\u001b[0m\u001b[1m(\u001b[0m\u001b[1m)\u001b[0m=\u001b[1m[\u001b[0m\u001b[1;35mAgentDef\u001b[0m\u001b[1m(\u001b[0m\u001b[33mmodel\u001b[0m=\u001b[32m'openai:gpt-4o-mini'\u001b[0m, \u001b[33mname\u001b[0m=\u001b[32m'planner'\u001b[0m, \u001b[33msystem_prompt\u001b[0m=\u001b[32m'You are a planner. your goal\u001b[0m\n",
       "\u001b[32mis to make a step by step plan for other agents. Do not answer the user questions. Just make a plan how to do \u001b[0m\n",
       "\u001b[32mthis.'\u001b[0m, \u001b[33mparams\u001b[0m=\u001b[1m{\u001b[0m\u001b[32m'result_type'\u001b[0m: \u001b[32m'TaskDef'\u001b[0m, \u001b[32m'retries'\u001b[0m: \u001b[32m'3'\u001b[0m\u001b[1m}\u001b[0m\u001b[1m)\u001b[0m, \u001b[1;35mAgentDef\u001b[0m\u001b[1m(\u001b[0m\u001b[33mmodel\u001b[0m=\u001b[32m'openai:gpt-4o-mini'\u001b[0m, \u001b[33mname\u001b[0m=\u001b[32m'date agent'\u001b[0m,\n",
       "\u001b[33msystem_prompt\u001b[0m=\u001b[32m'You are date agent.'\u001b[0m, \u001b[33mparams\u001b[0m=\u001b[1m{\u001b[0m\u001b[1m}\u001b[0m\u001b[1m)\u001b[0m\u001b[1m]\u001b[0m\n",
       "\n"
      ]
     },
     "metadata": {},
     "output_type": "display_data"
    }
   ],
   "source": [
    "def avilable_agents() -> list[AgentDef]:\n",
    "    a1 = AgentDef(\n",
    "        model=\"openai:gpt-4o-mini\",\n",
    "        name=\"planner\",\n",
    "        system_prompt=\"You are a planner. your goal is to make a step by step plan for other agents. Do not answer the user questions. Just make a plan how to do this.\",\n",
    "        params={\n",
    "            \"result_type\": \"TaskDef\",\n",
    "            \"retries\": \"3\",\n",
    "        },\n",
    "    )\n",
    "    a2 = AgentDef(\n",
    "        model=\"openai:gpt-4o-mini\",\n",
    "        name=\"date agent\",\n",
    "        system_prompt=\"You are date agent.\",\n",
    "    )\n",
    "    return [a1, a2]\n",
    "\n",
    "\n",
    "print(f\"{avilable_agents()=}\", end=\"\\n\\n\")"
   ]
  },
  {
   "cell_type": "code",
   "execution_count": 16,
   "metadata": {},
   "outputs": [],
   "source": [
    "@dataclass\n",
    "class TaskDef:\n",
    "    name: str\n",
    "    question: str\n",
    "    priority: int\n",
    "    agent: Optional[AgentDef] = field(default=None, init=True, repr=False)\n",
    "    toolset: Optional[ToolSet] = field(default=None, init=True, repr=False)\n",
    "\n",
    "    def __lt__(self, other):\n",
    "        return self.priority < other.priority"
   ]
  },
  {
   "cell_type": "code",
   "execution_count": 17,
   "metadata": {},
   "outputs": [
    {
     "data": {
      "text/html": [
       "<pre style=\"white-space:pre;overflow-x:auto;line-height:normal;font-family:Menlo,'DejaVu Sans Mono',consolas,'Courier New',monospace\"><span style=\"color: #808000; text-decoration-color: #808000\">t</span>=<span style=\"color: #800080; text-decoration-color: #800080; font-weight: bold\">TaskDef</span><span style=\"font-weight: bold\">(</span><span style=\"color: #808000; text-decoration-color: #808000\">name</span>=<span style=\"color: #008000; text-decoration-color: #008000\">'get_datetime'</span>, <span style=\"color: #808000; text-decoration-color: #808000\">question</span>=<span style=\"color: #008000; text-decoration-color: #008000\">'make a plan on how to get the current datetime'</span>, <span style=\"color: #808000; text-decoration-color: #808000\">priority</span>=<span style=\"color: #008080; text-decoration-color: #008080; font-weight: bold\">1</span><span style=\"font-weight: bold\">)</span>\n",
       "\n",
       "</pre>\n"
      ],
      "text/plain": [
       "\u001b[33mt\u001b[0m=\u001b[1;35mTaskDef\u001b[0m\u001b[1m(\u001b[0m\u001b[33mname\u001b[0m=\u001b[32m'get_datetime'\u001b[0m, \u001b[33mquestion\u001b[0m=\u001b[32m'make a plan on how to get the current datetime'\u001b[0m, \u001b[33mpriority\u001b[0m=\u001b[1;36m1\u001b[0m\u001b[1m)\u001b[0m\n",
       "\n"
      ]
     },
     "metadata": {},
     "output_type": "display_data"
    },
    {
     "data": {
      "text/html": [
       "<pre style=\"white-space:pre;overflow-x:auto;line-height:normal;font-family:Menlo,'DejaVu Sans Mono',consolas,'Courier New',monospace\"><span style=\"color: #808000; text-decoration-color: #808000\">t2</span>=<span style=\"color: #800080; text-decoration-color: #800080; font-weight: bold\">TaskDef</span><span style=\"font-weight: bold\">(</span><span style=\"color: #808000; text-decoration-color: #808000\">name</span>=<span style=\"color: #008000; text-decoration-color: #008000\">'get_datetime'</span>, <span style=\"color: #808000; text-decoration-color: #808000\">question</span>=<span style=\"color: #008000; text-decoration-color: #008000\">'make a plan on how to get the current datetime'</span>, <span style=\"color: #808000; text-decoration-color: #808000\">priority</span>=<span style=\"color: #008080; text-decoration-color: #008080; font-weight: bold\">2</span><span style=\"font-weight: bold\">)</span>\n",
       "\n",
       "</pre>\n"
      ],
      "text/plain": [
       "\u001b[33mt2\u001b[0m=\u001b[1;35mTaskDef\u001b[0m\u001b[1m(\u001b[0m\u001b[33mname\u001b[0m=\u001b[32m'get_datetime'\u001b[0m, \u001b[33mquestion\u001b[0m=\u001b[32m'make a plan on how to get the current datetime'\u001b[0m, \u001b[33mpriority\u001b[0m=\u001b[1;36m2\u001b[0m\u001b[1m)\u001b[0m\n",
       "\n"
      ]
     },
     "metadata": {},
     "output_type": "display_data"
    },
    {
     "data": {
      "text/html": [
       "<pre style=\"white-space:pre;overflow-x:auto;line-height:normal;font-family:Menlo,'DejaVu Sans Mono',consolas,'Courier New',monospace\">t &lt; t2 = <span style=\"color: #00ff00; text-decoration-color: #00ff00; font-style: italic\">True</span>\n",
       "\n",
       "</pre>\n"
      ],
      "text/plain": [
       "t < t2 = \u001b[3;92mTrue\u001b[0m\n",
       "\n"
      ]
     },
     "metadata": {},
     "output_type": "display_data"
    },
    {
     "data": {
      "text/html": [
       "<pre style=\"white-space:pre;overflow-x:auto;line-height:normal;font-family:Menlo,'DejaVu Sans Mono',consolas,'Courier New',monospace\">t2 &lt; t = <span style=\"color: #ff0000; text-decoration-color: #ff0000; font-style: italic\">False</span>\n",
       "\n",
       "</pre>\n"
      ],
      "text/plain": [
       "t2 < t = \u001b[3;91mFalse\u001b[0m\n",
       "\n"
      ]
     },
     "metadata": {},
     "output_type": "display_data"
    }
   ],
   "source": [
    "t = TaskDef(name=\"get_datetime\", question=\"make a plan on how to get the current datetime\", priority=1)\n",
    "print(f\"{t=}\", end=\"\\n\\n\")\n",
    "t2 = TaskDef(name=\"get_datetime\", question=\"make a plan on how to get the current datetime\", priority=2)\n",
    "print(f\"{t2=}\", end=\"\\n\\n\")\n",
    "print(f\"{t < t2 = }\", end=\"\\n\\n\")\n",
    "print(f\"{t2 < t = }\", end=\"\\n\\n\")"
   ]
  },
  {
   "cell_type": "code",
   "execution_count": 18,
   "metadata": {},
   "outputs": [],
   "source": [
    "@dataclass\n",
    "class Task:\n",
    "    agent: Agent = field(init=False, repr=False)\n",
    "    task: TaskDef\n",
    "    agent_def: AgentDef\n",
    "    toolset: ToolSet = field(default_factory=list, init=True, repr=True)\n",
    "\n",
    "    def __post_init__(self):\n",
    "        self.agent = Agent(\n",
    "            model=self.agent_def.model,\n",
    "            name=self.agent_def.name,\n",
    "            system_prompt=self.agent_def.system_prompt,\n",
    "            tools=self.toolset,\n",
    "            **self.agent_def.params if self.agent_def.params else {},\n",
    "        )\n",
    "\n",
    "    async def run(self, *args, **kwargs):\n",
    "        if self.task.question and args:\n",
    "            query = f\"{self.task.question}: {args[0]}\"\n",
    "        else:\n",
    "            query = self.task.question\n",
    "        return await self.agent.run(query)\n",
    "\n",
    "    def run_sync(self, *args, **kwargs):\n",
    "        if self.task.question and args:\n",
    "            query = f\"{self.task.question}: {args[0]}\"\n",
    "        else:\n",
    "            query = self.task.question\n",
    "        return self.agent.run_sync(query)"
   ]
  },
  {
   "cell_type": "code",
   "execution_count": 19,
   "metadata": {},
   "outputs": [
    {
     "data": {
      "text/html": [
       "<pre style=\"white-space:pre;overflow-x:auto;line-height:normal;font-family:Menlo,'DejaVu Sans Mono',consolas,'Courier New',monospace\"><span style=\"font-weight: bold\">Logfire</span> project URL: <a href=\"https://logfire.pydantic.dev/micpec/agentgenius\" target=\"_blank\"><span style=\"color: #008080; text-decoration-color: #008080; text-decoration: underline\">https://logfire.pydantic.dev/micpec/agentgenius</span></a>\n",
       "</pre>\n"
      ],
      "text/plain": [
       "\u001b[1mLogfire\u001b[0m project URL: \u001b]8;id=989499;https://logfire.pydantic.dev/micpec/agentgenius\u001b\\\u001b[4;36mhttps://logfire.pydantic.dev/micpec/agentgenius\u001b[0m\u001b]8;;\u001b\\\n"
      ]
     },
     "metadata": {},
     "output_type": "display_data"
    }
   ],
   "source": [
    "# print(f\"{get_datetime()=}\", end=\"\\n\\n\")\n",
    "resp = Tuple[TaskDef, AgentDef]\n",
    "t = Task(\n",
    "    task=TaskDef(name=\"get_datetime\", question=\"make a plan on how to get the current datetime\", priority=1),\n",
    "    agent_def=AgentDef(\n",
    "        model=\"openai:gpt-4o-mini\",\n",
    "        name=\"planner\",\n",
    "        system_prompt=\"You are a planner. your goal is to make a step by step plan for other agents. Get the list of available agents by calling 'agents_available' or create a new agent . Do not answer the user questions. Just make a plan how to do this.\",\n",
    "        params={\n",
    "            \"result_type\": list[str],\n",
    "            \"retries\": 3,\n",
    "        },\n",
    "    ),\n",
    "    toolset=ToolSet([get_datetime]),\n",
    ")\n",
    "\n",
    "\n",
    "@t.agent.tool_plain\n",
    "def tools_available():\n",
    "    \"\"\"get list of available tools\"\"\"\n",
    "    return [\"get_datetime\"]\n",
    "\n",
    "\n",
    "@t.agent.tool_plain\n",
    "def agents_available():\n",
    "    \"get list of available agents\"\n",
    "    return [\n",
    "        AgentDef(\n",
    "            model=\"openai:gpt-4o-mini\",\n",
    "            name=\"date agent\",\n",
    "            system_prompt=\"You are a date agent.\",\n",
    "        ),\n",
    "        AgentDef(\n",
    "            model=\"openai:gpt-4o-mini\",\n",
    "            name=\"planner\",\n",
    "            system_prompt=\"You are a planner. your goal is to make a step by step plan for other agents. Do not answer the user questions. Just make a plan how to do this.\",\n",
    "        ),\n",
    "    ]\n",
    "\n",
    "\n",
    "# print(t)\n",
    "# result = t.run_sync()\n",
    "# print(result.data)\n",
    "# td = Task(result)\n",
    "# print(td())"
   ]
  },
  {
   "cell_type": "code",
   "execution_count": 22,
   "metadata": {},
   "outputs": [],
   "source": [
    "def get_datetime(format: str = \"%Y-%m-%d %H:%M:%S\") -> str:\n",
    "    \"\"\"Get the current datetime as a string in the specified python format.\"\"\"\n",
    "    from datetime import datetime\n",
    "\n",
    "    return datetime.now().strftime(format)\n",
    "\n",
    "\n",
    "def get_user_ip_and_location() -> str:\n",
    "    \"\"\"Get the public IP address and location of the current machine using an external service.\"\"\"\n",
    "    import requests\n",
    "\n",
    "    try:\n",
    "        response = requests.get(\"https://ipinfo.io\")\n",
    "        return response.text\n",
    "    except requests.RequestException as e:\n",
    "        return f\"Error: {str(e)}\"\n",
    "\n",
    "\n",
    "def get_installed_packages() -> str:\n",
    "    \"\"\"Get a list of all installed Python packages.\"\"\"\n",
    "    import pkg_resources\n",
    "\n",
    "    installed_packages = pkg_resources.working_set\n",
    "    sorted_packages = sorted([f\"{i.key}\" for i in installed_packages])\n",
    "    return \", \".join(sorted_packages)"
   ]
  },
  {
   "cell_type": "code",
   "execution_count": 23,
   "metadata": {},
   "outputs": [
    {
     "name": "stdout",
     "output_type": "stream",
     "text": [
      "21:30:07.972 planner run prompt=make a short plan how to archive this task: what time is it?\n",
      "21:30:07.973   preparing model and tools run_step=1\n",
      "21:30:07.973   model request\n",
      "21:30:09.640   handle model response\n"
     ]
    },
    {
     "data": {
      "text/html": [
       "<pre style=\"white-space:pre;overflow-x:auto;line-height:normal;font-family:Menlo,'DejaVu Sans Mono',consolas,'Courier New',monospace\"><span style=\"font-weight: bold\">[</span>\n",
       "    <span style=\"color: #800080; text-decoration-color: #800080; font-weight: bold\">Task</span><span style=\"font-weight: bold\">(</span>\n",
       "        <span style=\"color: #808000; text-decoration-color: #808000\">task</span>=<span style=\"color: #800080; text-decoration-color: #800080; font-weight: bold\">TaskDef</span><span style=\"font-weight: bold\">(</span><span style=\"color: #808000; text-decoration-color: #808000\">name</span>=<span style=\"color: #008000; text-decoration-color: #008000\">'Get Current Time'</span>, <span style=\"color: #808000; text-decoration-color: #808000\">question</span>=<span style=\"color: #008000; text-decoration-color: #008000\">'What time is it?'</span>, <span style=\"color: #808000; text-decoration-color: #808000\">priority</span>=<span style=\"color: #008080; text-decoration-color: #008080; font-weight: bold\">1</span><span style=\"font-weight: bold\">)</span>,\n",
       "        <span style=\"color: #808000; text-decoration-color: #808000\">agent_def</span>=<span style=\"color: #800080; text-decoration-color: #800080; font-weight: bold\">AgentDef</span><span style=\"font-weight: bold\">(</span>\n",
       "            <span style=\"color: #808000; text-decoration-color: #808000\">model</span>=<span style=\"color: #008000; text-decoration-color: #008000\">'openai:gpt-3.5-turbo'</span>,\n",
       "            <span style=\"color: #808000; text-decoration-color: #808000\">name</span>=<span style=\"color: #008000; text-decoration-color: #008000\">'get_time_agent'</span>,\n",
       "            <span style=\"color: #808000; text-decoration-color: #808000\">system_prompt</span>=<span style=\"color: #008000; text-decoration-color: #008000\">'You are an assistant that provides the current date and time efficiently.'</span>,\n",
       "            <span style=\"color: #808000; text-decoration-color: #808000\">params</span>=<span style=\"font-weight: bold\">{}</span>\n",
       "        <span style=\"font-weight: bold\">)</span>,\n",
       "        <span style=\"color: #808000; text-decoration-color: #808000\">toolset</span>=<span style=\"color: #800080; text-decoration-color: #800080; font-weight: bold\">ToolSet</span><span style=\"font-weight: bold\">(</span><span style=\"color: #808000; text-decoration-color: #808000\">tools</span>=<span style=\"font-weight: bold\">[</span><span style=\"color: #800080; text-decoration-color: #800080; font-weight: bold\">ToolDef</span><span style=\"font-weight: bold\">(</span><span style=\"color: #808000; text-decoration-color: #808000\">name</span>=<span style=\"color: #008000; text-decoration-color: #008000\">'get_datetime'</span><span style=\"font-weight: bold\">)])</span>\n",
       "    <span style=\"font-weight: bold\">)</span>\n",
       "<span style=\"font-weight: bold\">]</span>\n",
       "</pre>\n"
      ],
      "text/plain": [
       "\u001b[1m[\u001b[0m\n",
       "    \u001b[1;35mTask\u001b[0m\u001b[1m(\u001b[0m\n",
       "        \u001b[33mtask\u001b[0m=\u001b[1;35mTaskDef\u001b[0m\u001b[1m(\u001b[0m\u001b[33mname\u001b[0m=\u001b[32m'Get Current Time'\u001b[0m, \u001b[33mquestion\u001b[0m=\u001b[32m'What time is it?'\u001b[0m, \u001b[33mpriority\u001b[0m=\u001b[1;36m1\u001b[0m\u001b[1m)\u001b[0m,\n",
       "        \u001b[33magent_def\u001b[0m=\u001b[1;35mAgentDef\u001b[0m\u001b[1m(\u001b[0m\n",
       "            \u001b[33mmodel\u001b[0m=\u001b[32m'openai:gpt-3.5-turbo'\u001b[0m,\n",
       "            \u001b[33mname\u001b[0m=\u001b[32m'get_time_agent'\u001b[0m,\n",
       "            \u001b[33msystem_prompt\u001b[0m=\u001b[32m'You are an assistant that provides the current date and time efficiently.'\u001b[0m,\n",
       "            \u001b[33mparams\u001b[0m=\u001b[1m{\u001b[0m\u001b[1m}\u001b[0m\n",
       "        \u001b[1m)\u001b[0m,\n",
       "        \u001b[33mtoolset\u001b[0m=\u001b[1;35mToolSet\u001b[0m\u001b[1m(\u001b[0m\u001b[33mtools\u001b[0m=\u001b[1m[\u001b[0m\u001b[1;35mToolDef\u001b[0m\u001b[1m(\u001b[0m\u001b[33mname\u001b[0m=\u001b[32m'get_datetime'\u001b[0m\u001b[1m)\u001b[0m\u001b[1m]\u001b[0m\u001b[1m)\u001b[0m\n",
       "    \u001b[1m)\u001b[0m\n",
       "\u001b[1m]\u001b[0m\n"
      ]
     },
     "metadata": {},
     "output_type": "display_data"
    },
    {
     "name": "stdout",
     "output_type": "stream",
     "text": [
      "21:30:09.644 get_time_agent run prompt=What time is it?\n",
      "21:30:09.645   preparing model and tools run_step=1\n",
      "21:30:09.645   model request\n",
      "21:30:10.649   handle model response\n",
      "21:30:10.650     running tools=['get_datetime']\n",
      "21:30:10.651   preparing model and tools run_step=2\n",
      "21:30:10.651   model request\n",
      "21:30:11.241   handle model response\n"
     ]
    },
    {
     "data": {
      "text/html": [
       "<pre style=\"white-space:pre;overflow-x:auto;line-height:normal;font-family:Menlo,'DejaVu Sans Mono',consolas,'Courier New',monospace\">The current date and time is January <span style=\"color: #008080; text-decoration-color: #008080; font-weight: bold\">13</span>, <span style=\"color: #008080; text-decoration-color: #008080; font-weight: bold\">2025</span>, <span style=\"color: #00ff00; text-decoration-color: #00ff00; font-weight: bold\">10:30:10</span> PM.\n",
       "</pre>\n"
      ],
      "text/plain": [
       "The current date and time is January \u001b[1;36m13\u001b[0m, \u001b[1;36m2025\u001b[0m, \u001b[1;92m10:30:10\u001b[0m PM.\n"
      ]
     },
     "metadata": {},
     "output_type": "display_data"
    }
   ],
   "source": [
    "planner = Task(\n",
    "    task=TaskDef(name=\"planner\", question=\"make a short plan how to archive this task\", priority=1),\n",
    "    agent_def=AgentDef(\n",
    "        model=\"openai:gpt-4o\",\n",
    "        name=\"planner\",\n",
    "        system_prompt=\"\"\"You are a planner. your goal is to make a step by step plan for other agents. \n",
    "        Do not answer the user questions. Just make a very short plan how to do this. \n",
    "        AlWAYS MAKE SURE TO ADD APPROPRIATE TOOLS TO THE PLAN. You can get the list of available tools by calling 'get_available_tools'.\n",
    "        Efficiently is a priority, so don't waste time on things that are not necessary.\n",
    "        LESS STEPS IS BETTER (up to 3 steps), so make it as short as possible.\"\"\",\n",
    "        params={\n",
    "            \"result_type\": list[Task],\n",
    "            \"retries\": 3,\n",
    "        },\n",
    "    ),\n",
    "    # toolset=ToolSet([\"get_datetime\", \"get_user_ip_and_location\", \"get_installed_packages\"]),\n",
    ")\n",
    "\n",
    "\n",
    "@planner.agent.system_prompt\n",
    "def get_available_tools():\n",
    "    \"\"\"Return a list of available tools. Do not use these tools.\n",
    "    Just let the other agents to use them.\"\"\"\n",
    "    tools = [\"get_datetime\", \"get_user_ip_and_location\", \"get_installed_packages\"]\n",
    "    return f\"Available tools: {', '.join(tools)}\"\n",
    "\n",
    "\n",
    "result = planner.run_sync(\"what time is it?\")\n",
    "# result = planner.run_sync(\"how to get my location by IP?\")\n",
    "print(result.data)\n",
    "plan = result.data[0].run_sync()\n",
    "print(plan.data)"
   ]
  },
  {
   "cell_type": "code",
   "execution_count": 24,
   "metadata": {},
   "outputs": [
    {
     "ename": "TypeError",
     "evalue": "'RunResult' object is not iterable",
     "output_type": "error",
     "traceback": [
      "\u001b[0;31m---------------------------------------------------------------------------\u001b[0m",
      "\u001b[0;31mTypeError\u001b[0m                                 Traceback (most recent call last)",
      "Cell \u001b[0;32mIn[24], line 35\u001b[0m\n\u001b[1;32m     17\u001b[0m \u001b[38;5;66;03m# @select_agents.agent.tool_plain\u001b[39;00m\n\u001b[1;32m     18\u001b[0m \u001b[38;5;66;03m# def agents_available():\u001b[39;00m\n\u001b[1;32m     19\u001b[0m \u001b[38;5;66;03m#     \"get list of available agents\"\u001b[39;00m\n\u001b[0;32m   (...)\u001b[0m\n\u001b[1;32m     30\u001b[0m \u001b[38;5;66;03m#         ),\u001b[39;00m\n\u001b[1;32m     31\u001b[0m \u001b[38;5;66;03m#     ]\u001b[39;00m\n\u001b[1;32m     34\u001b[0m agents \u001b[38;5;241m=\u001b[39m []\n\u001b[0;32m---> 35\u001b[0m \u001b[38;5;28;43;01mfor\u001b[39;49;00m\u001b[43m \u001b[49m\u001b[43mtask\u001b[49m\u001b[43m \u001b[49m\u001b[38;5;129;43;01min\u001b[39;49;00m\u001b[43m \u001b[49m\u001b[43mplan\u001b[49m\u001b[43m:\u001b[49m\n\u001b[1;32m     36\u001b[0m \u001b[43m    \u001b[49m\u001b[43mresult\u001b[49m\u001b[43m \u001b[49m\u001b[38;5;241;43m=\u001b[39;49m\u001b[43m \u001b[49m\u001b[43mselect_agents\u001b[49m\u001b[38;5;241;43m.\u001b[39;49m\u001b[43mrun_sync\u001b[49m\u001b[43m(\u001b[49m\u001b[43mtask\u001b[49m\u001b[38;5;241;43m.\u001b[39;49m\u001b[43mquestion\u001b[49m\u001b[43m)\u001b[49m\n\u001b[1;32m     37\u001b[0m \u001b[43m    \u001b[49m\u001b[43magents\u001b[49m\u001b[38;5;241;43m.\u001b[39;49m\u001b[43mappend\u001b[49m\u001b[43m(\u001b[49m\u001b[43mresult\u001b[49m\u001b[38;5;241;43m.\u001b[39;49m\u001b[43mdata\u001b[49m\u001b[43m)\u001b[49m\n",
      "\u001b[0;31mTypeError\u001b[0m: 'RunResult' object is not iterable"
     ]
    }
   ],
   "source": [
    "select_agents = Task(\n",
    "    task=TaskDef(name=\"select_agents\", question=\"select agents to work on this task or create a new agent\", priority=1),\n",
    "    agent_def=AgentDef(\n",
    "        model=\"openai:gpt-4o-mini\",\n",
    "        name=\"agent selector\",\n",
    "        system_prompt=\"\"\"Your goal is to select agents to work on this task. Get the list of available agents by calling 'agents_available'.\n",
    "        IF NO APPLICABLE AGENTS ARE AVAILABLE, CREATE A NEW AGENT.\n",
    "        Do not answer the user questions, just select agent to work on this task.\"\"\",\n",
    "        params={\n",
    "            \"result_type\": AgentDef,\n",
    "            \"retries\": 3,\n",
    "        },\n",
    "    ),\n",
    ")\n",
    "\n",
    "\n",
    "# @select_agents.agent.tool_plain\n",
    "# def agents_available():\n",
    "#     \"get list of available agents\"\n",
    "#     return [\n",
    "#         AgentDef(\n",
    "#             model=\"openai:gpt-4o-mini\",\n",
    "#             name=\"date agent\",\n",
    "#             system_prompt=\"You are a date agent.\",\n",
    "#         ),\n",
    "#         AgentDef(\n",
    "#             model=\"openai:gpt-4o-mini\",\n",
    "#             name=\"planner\",\n",
    "#             system_prompt=\"You are a planner. your goal is to make a step by step plan for other agents. Do not answer the user questions. Just make a plan how to do this.\",\n",
    "#         ),\n",
    "#     ]\n",
    "\n",
    "\n",
    "agents = []\n",
    "for task in plan:\n",
    "    result = select_agents.run_sync(task.question)\n",
    "    agents.append(result.data)\n",
    "\n",
    "print(agents)\n",
    "\n",
    "result = select_agents.run_sync(\"what time is today?\")\n",
    "print(result.data)"
   ]
  },
  {
   "cell_type": "code",
   "execution_count": null,
   "metadata": {},
   "outputs": [],
   "source": [
    "@dataclass\n",
    "class TaskList:\n",
    "    tasks: list[TaskDef]\n",
    "\n",
    "    def __iter__(self):\n",
    "        return iter(self.tasks)\n",
    "\n",
    "    def __getitem__(self, item):\n",
    "        return self.tasks[item]\n",
    "\n",
    "    def append(self, task: TaskDef):\n",
    "        self.tasks.append(task)\n",
    "\n",
    "    # @classmethod\n",
    "    # def __get_pydantic_core_schema__(cls, source: Any, handler: GetCoreSchemaHandler) -> core_schema.CoreSchema:\n",
    "    #     instance_schema = core_schema.is_instance_schema(cls)\n",
    "\n",
    "    #     args = get_args(source)\n",
    "    #     if args:\n",
    "    #         # replace the type and rely on Pydantic to generate the right schema\n",
    "    #         # for `Sequence`\n",
    "    #         sequence_t_schema = handler.generate_schema(list[args[0]])\n",
    "    #     else:\n",
    "    #         sequence_t_schema = handler.generate_schema(list)\n",
    "\n",
    "    #     non_instance_schema = core_schema.no_info_after_validator_function(TaskList, sequence_t_schema)\n",
    "    #     return core_schema.union_schema([instance_schema, non_instance_schema])\n",
    "\n",
    "\n",
    "# TaskList = Dict[int,TaskDef]\n",
    "\n",
    "tl = TaskList(\n",
    "    [\n",
    "        TaskDef(\n",
    "            name=\"test3\",\n",
    "            description=\"test 3\",\n",
    "            priority=3,\n",
    "            agent=AgentDef(name=\"test3\", model=\"openai:gpt-4o-mini\", system_prompt=\"You are agent 3\"),\n",
    "        ),\n",
    "        TaskDef(name=\"test1\", question=\"test 1\", priority=1),\n",
    "        TaskDef(name=\"test2\", question=\"test 2\", priority=2),\n",
    "    ]\n",
    ")\n",
    "\n",
    "print(f\"{tl=}\")\n",
    "print(f\"{sorted(tl)=}\")"
   ]
  },
  {
   "cell_type": "code",
   "execution_count": null,
   "metadata": {},
   "outputs": [],
   "source": [
    "toolset = ToolSet([\"get_datetime\"])\n",
    "# tollset = None\n",
    "toolset = [get_datetime]\n",
    "print(toolset)\n",
    "\n",
    "agent = AgentDef(\n",
    "    model=\"openai:gpt-4o-mini\",\n",
    "    name=\"planner\",\n",
    "    system_prompt=\"You are a planner. your goal is to make a step by step plan for other agents. Do not answer the user questions. Just make a plan how to do this.\",\n",
    "    params={\"result_type\": TaskList, \"retries\": 3},\n",
    ")\n",
    "print(agent)\n",
    "\n",
    "task_def = TaskDef(name=\"get_datetime\", description=\"make a plan on how to get the current datetime\", priority=1)\n",
    "print(task_def)\n",
    "\n",
    "\n",
    "task = Task(task=task_def, agent_def=agent, toolset=toolset)\n",
    "print(task)\n",
    "\n",
    "# @task.agent.tool_plain\n",
    "# def tools_available():\n",
    "#     \"\"\"get list of available tools\"\"\"\n",
    "#     return Toolset([get_datetime])\n",
    "\n",
    "\n",
    "# @task.agent.tool_plain\n",
    "# def agents_available():\n",
    "#     \"\"\"get list of available agents\"\"\"\n",
    "#     return [\n",
    "#         AgentDef(\n",
    "#             model=\"openai:gpt-4o-mini\",\n",
    "#             name=\"date agent\",\n",
    "#             system_prompt=\"You are a date agent.\",\n",
    "#         ),\n",
    "#         AgentDef(\n",
    "#             model=\"openai:gpt-4o-mini\",\n",
    "#             name=\"planner\",\n",
    "#             system_prompt=\"\"\"You are a planner. your goal is to make a step by step plan for other agents.\n",
    "#             Get the list of available agents by calling 'agents_available' or create a new agent.\n",
    "#             You must assign an agent and toolset to every task.\n",
    "#             Do not answer the user questions. Just make a plan how to do this.\"\"\",\n",
    "#         ),\n",
    "#     ]\n",
    "\n",
    "t\n",
    "result = task.run_sync()\n",
    "\n",
    "print(f\"{result=}\", end=\"\\n\\n\")\n",
    "print(f\"{result.data=}\", end=\"\\n\\n\")\n",
    "\n",
    "t = result.data[0]\n",
    "\n",
    "test_task = Task(task=t, agent_def=t.agent, toolset=t.toolset)\n",
    "test_result = test_task.run_sync()\n",
    "Markdown(test_result.data)"
   ]
  },
  {
   "cell_type": "code",
   "execution_count": null,
   "metadata": {},
   "outputs": [],
   "source": [
    "def foo():\n",
    "    pass\n",
    "\n",
    "\n",
    "f = foo\n",
    "print(f)\n",
    "print(f.__name__)\n",
    "print(f.__qualname__)\n",
    "\n",
    "from agentgenius.builtin_tools import get_datetime\n",
    "\n",
    "print(get_datetime)\n",
    "print(get_datetime.__name__)\n",
    "print(get_datetime.__qualname__)"
   ]
  }
 ],
 "metadata": {
  "kernelspec": {
   "display_name": ".venv",
   "language": "python",
   "name": "python3"
  },
  "language_info": {
   "codemirror_mode": {
    "name": "ipython",
    "version": 3
   },
   "file_extension": ".py",
   "mimetype": "text/x-python",
   "name": "python",
   "nbconvert_exporter": "python",
   "pygments_lexer": "ipython3",
   "version": "3.12.8"
  }
 },
 "nbformat": 4,
 "nbformat_minor": 2
}
