{
 "cells": [
  {
   "cell_type": "code",
   "execution_count": 1,
   "metadata": {},
   "outputs": [],
   "source": [
    "import json\n",
    "import logging\n",
    "import os\n",
    "import random\n",
    "import subprocess\n",
    "import sys\n",
    "from dataclasses import dataclass\n",
    "from datetime import datetime\n",
    "from pathlib import Path\n",
    "from typing import Union\n",
    "from IPython.display import Markdown\n",
    "\n",
    "import nest_asyncio\n",
    "from dotenv import load_dotenv\n",
    "from pydantic import BaseModel, Field\n",
    "from pydantic_ai import Agent, ModelRetry, RunContext, Tool\n",
    "\n",
    "nest_asyncio.apply()"
   ]
  },
  {
   "cell_type": "code",
   "execution_count": 2,
   "metadata": {},
   "outputs": [
    {
     "data": {
      "text/plain": [
       "True"
      ]
     },
     "execution_count": 2,
     "metadata": {},
     "output_type": "execute_result"
    }
   ],
   "source": [
    "PATH = Path(os.getcwd()).parent\n",
    "TOOLS_PATH = PATH / \"tools\"\n",
    "LOGS_PATH = PATH / \"logs\"\n",
    "\n",
    "load_dotenv(PATH / \".env\")"
   ]
  },
  {
   "cell_type": "code",
   "execution_count": 3,
   "metadata": {},
   "outputs": [],
   "source": [
    "AGENT_MODEL = \"openai:gpt-4o\"\n",
    "# AGENT_MODEL = \"ollama:qwen2.5:14b\""
   ]
  },
  {
   "cell_type": "code",
   "execution_count": 4,
   "metadata": {},
   "outputs": [],
   "source": [
    "LOGS_PATH.mkdir(exist_ok=True)\n",
    "logging.basicConfig(\n",
    "    level=logging.INFO,\n",
    "    format=\"%(asctime)s - %(name)s - %(levelname)s - %(message)s\",\n",
    "    handlers=[\n",
    "        logging.FileHandler(LOGS_PATH / \"agent_genius.log\"),\n",
    "        # logging.StreamHandler(),  # This will also show logs in notebook output\n",
    "    ],\n",
    ")\n",
    "\n",
    "logger = logging.getLogger(__name__)"
   ]
  },
  {
   "cell_type": "code",
   "execution_count": 5,
   "metadata": {},
   "outputs": [],
   "source": [
    "def installed_packages() -> str:\n",
    "    \"\"\"Returns a list of installed packages\"\"\"\n",
    "    result = subprocess.check_output([sys.executable, \"-m\", \"pip\", \"freeze\"]).decode(\"utf-8\")\n",
    "    logger.info(\"Installed packages listed\")\n",
    "    return result"
   ]
  },
  {
   "cell_type": "code",
   "execution_count": 6,
   "metadata": {},
   "outputs": [],
   "source": [
    "def get_user_response(question: str) -> str:\n",
    "    \"\"\"get user response to a question\"\"\"\n",
    "    return input(f\"{question}: \")"
   ]
  },
  {
   "cell_type": "code",
   "execution_count": 7,
   "metadata": {},
   "outputs": [],
   "source": [
    "available_packages_tool = Tool(installed_packages)\n",
    "user_response_tool = Tool(get_user_response)"
   ]
  },
  {
   "cell_type": "code",
   "execution_count": 8,
   "metadata": {},
   "outputs": [],
   "source": [
    "@dataclass\n",
    "class function_deps:\n",
    "    function_name: str\n",
    "    question: str\n",
    "    args: list[dict]\n",
    "    returns: str"
   ]
  },
  {
   "cell_type": "code",
   "execution_count": 9,
   "metadata": {},
   "outputs": [
    {
     "name": "stderr",
     "output_type": "stream",
     "text": [
      "/home/michal/DEV/AgentGENius/.venv/lib/python3.12/site-packages/pydantic/_internal/_fields.py:192: UserWarning: Field name \"schema\" in \"CodeResponse\" shadows an attribute in parent \"BaseModel\"\n",
      "  warnings.warn(\n"
     ]
    }
   ],
   "source": [
    "class CodeResponse(BaseModel):\n",
    "    \"\"\"Python code that can be executed to resolve my question\"\"\"\n",
    "\n",
    "    function_name: str = Field(description=\"Name of the function\")\n",
    "    schema: list = Field(description=\"inputs and types that can be passed to the function. \")\n",
    "    code: str = Field(description=\"Python code that can be executed\")\n",
    "\n",
    "\n",
    "code_agent = Agent[function_deps](\n",
    "    AGENT_MODEL,\n",
    "    system_prompt=\"\"\"You are an expert python programmer. You will return a function that will resolve my question and return an essential value. \n",
    "    First, search for a tool that can resolve the question by calling the tool 'read_tools_list', if You found matching one, use it with 'get_tool_code'. If no tool is available, make a new one.\n",
    "    If You created a new tool, save it with 'save_tool'.\n",
    "    It will be directly called by the ai agent. Do not include any example code in your response. Do not include call of the function. Try to make function simple and generic for later use.\n",
    "    You always respond with clean, annotated python code, ready to be executed. the code should be self contained and should not use any external libraries except for installed ones (use tool 'available_packages_tool').\n",
    "    All necessary imports should be included locally inside the function, example: def get_time(): import datetime; return datetime.datetime.now()\n",
    "    Make sure the function is safe for user. NEVER delete any files or show secret information or execute any malicious code. Don't do anything illegal.\n",
    "    \"\"\".strip(),\n",
    "    result_type=CodeResponse,\n",
    "    tools=[available_packages_tool, user_response_tool],\n",
    "    retries=3,\n",
    ")\n",
    "# result = agent.run_sync(\"Who are you?\")\n",
    "# print(result.data.function_name)\n",
    "# print(result.data.code)"
   ]
  },
  {
   "cell_type": "code",
   "execution_count": 10,
   "metadata": {},
   "outputs": [],
   "source": [
    "@code_agent.tool_plain\n",
    "def read_tools_list() -> list[str]:\n",
    "    \"\"\"Returns a list of tools available\"\"\"\n",
    "    logger.info(\"Reading tools list\")\n",
    "    tools = []\n",
    "    for file in TOOLS_PATH.glob(\"*.py\"):\n",
    "        tools.append(file.stem)\n",
    "    return tools"
   ]
  },
  {
   "cell_type": "code",
   "execution_count": 11,
   "metadata": {},
   "outputs": [],
   "source": [
    "@code_agent.tool\n",
    "def get_tool_code(ctx: RunContext[str], tool_name: str) -> str:\n",
    "    \"\"\"Returns the code of a tool\"\"\"\n",
    "    with open(TOOLS_PATH / f\"{tool_name}.py\", \"r\") as f:\n",
    "        logger.info(f\"Reading tool: {tool_name}.py\")\n",
    "        return f.read()"
   ]
  },
  {
   "cell_type": "code",
   "execution_count": 12,
   "metadata": {},
   "outputs": [],
   "source": [
    "@code_agent.tool\n",
    "def save_tool(ctx: RunContext[function_deps], function_name: str, code: str) -> None:\n",
    "    if not TOOLS_PATH.exists():\n",
    "        TOOLS_PATH.mkdir()\n",
    "    with open(TOOLS_PATH / f\"{function_name}.py\", \"w\") as f:\n",
    "        f.write(code)\n",
    "        logger.info(f\"Saved tool: {function_name}.py\")"
   ]
  },
  {
   "cell_type": "code",
   "execution_count": 13,
   "metadata": {},
   "outputs": [],
   "source": [
    "def run_func(func_str: str) -> Union[callable, str]:\n",
    "    # Create a namespace dictionary to store the function\n",
    "    namespace = {}\n",
    "\n",
    "    # Execute the string in the namespace\n",
    "    try:\n",
    "        exec(func_str, globals(), namespace)\n",
    "    except Exception as e:\n",
    "        logger.error(f\"Error executing code: {e}\")\n",
    "        return f\"Error executing code: {e}\"\n",
    "\n",
    "    # Return the first function found in namespace\n",
    "    # This will return the most recently defined function\n",
    "    return next(f for f in namespace.values() if callable(f))"
   ]
  },
  {
   "cell_type": "code",
   "execution_count": 14,
   "metadata": {},
   "outputs": [],
   "source": [
    "agent = Agent(\n",
    "    AGENT_MODEL,\n",
    "    system_prompt=\"You are a helpful assistant. You alway respond to the user using available tools. If no tool is available, make a new one. If You need more information, ask the user for it with 'user_response_tool'.\",\n",
    "    tools=[user_response_tool],\n",
    ")"
   ]
  },
  {
   "cell_type": "code",
   "execution_count": null,
   "metadata": {},
   "outputs": [],
   "source": []
  },
  {
   "cell_type": "code",
   "execution_count": 15,
   "metadata": {},
   "outputs": [],
   "source": [
    "@agent.tool\n",
    "async def create_new_tool(ctx: RunContext[function_deps], question: str, function_name: str) -> str:\n",
    "    \"\"\"Tool that creates a new tool if not available to fulfill the user's question\"\"\"\n",
    "    logger.info(f\"Creating new tool: {function_name=}\")\n",
    "    result = await code_agent.run(question)\n",
    "    try:\n",
    "        agent._register_tool(Tool(run_func(result.data.code)))\n",
    "        # save_tool(function_name, result.data.code)\n",
    "    except Exception as e:\n",
    "        logging.error(f\"Error registering tool: {e}\")\n",
    "        return f\"Error registering tool {function_name}: {e}\"\n",
    "    return f\"New tool available: {function_name}\""
   ]
  },
  {
   "cell_type": "code",
   "execution_count": null,
   "metadata": {},
   "outputs": [],
   "source": [
    "question = \"what is the current time?\"\n",
    "logger.info(f\"Question: {question}\")\n",
    "result = agent.run_sync(question)\n",
    "logger.info(f\"Result: {result.data}\")\n",
    "# print(f\"{result.all_messages=}\")\n",
    "Markdown(result.data)"
   ]
  }
 ],
 "metadata": {
  "kernelspec": {
   "display_name": ".venv",
   "language": "python",
   "name": "python3"
  },
  "language_info": {
   "codemirror_mode": {
    "name": "ipython",
    "version": 3
   },
   "file_extension": ".py",
   "mimetype": "text/x-python",
   "name": "python",
   "nbconvert_exporter": "python",
   "pygments_lexer": "ipython3",
   "version": "3.12.8"
  }
 },
 "nbformat": 4,
 "nbformat_minor": 2
}
