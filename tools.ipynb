{
 "cells": [
  {
   "cell_type": "code",
   "execution_count": 1,
   "metadata": {},
   "outputs": [
    {
     "data": {
      "text/plain": [
       "True"
      ]
     },
     "execution_count": 1,
     "metadata": {},
     "output_type": "execute_result"
    }
   ],
   "source": [
    "from agentgenius.agents import BaseAgent\n",
    "from pydantic_ai import RunContext, Tool\n",
    "from dotenv import load_dotenv\n",
    "import nest_asyncio\n",
    "from agentgenius.tools import ToolSet\n",
    "from datetime import date\n",
    "\n",
    "nest_asyncio.apply()\n",
    "load_dotenv()"
   ]
  },
  {
   "cell_type": "code",
   "execution_count": 2,
   "metadata": {},
   "outputs": [],
   "source": [
    "def test_tool(value: int) -> str:\n",
    "    return str(value)\n",
    "\n",
    "\n",
    "tools = ToolSet(test_tool)\n",
    "\n",
    "tool = tools.get(\"test_tool\")\n",
    "assert tool(10) == \"10\"\n",
    "\n",
    "assert \"test_tool2\" not in tools\n",
    "assert \"test_tool\" in tools\n",
    "assert test_tool in tools\n",
    "\n",
    "tools.remove(\"test_tool\")\n",
    "tool = tools.get(\"test_tool\")\n",
    "assert tool is None"
   ]
  },
  {
   "cell_type": "code",
   "execution_count": 3,
   "metadata": {},
   "outputs": [
    {
     "name": "stdout",
     "output_type": "stream",
     "text": [
      "agent.to_json()='{\"model\": \"openai:gpt-4o-mini\", \"system_prompt\": \"You are a helpful assistant.\", \"toolset\": [\"ask_user_tool\"]}'\n",
      "agent2.to_json()='{\"model\": \"openai:gpt-4o-mini\", \"system_prompt\": \"You are a helpful assistant.\", \"toolset\": []}'\n"
     ]
    }
   ],
   "source": [
    "def ask_user_tool(ctx: RunContext[str], question: str) -> str:\n",
    "    \"\"\"Ask the user a question\"\"\"\n",
    "    return input(question + \" \")\n",
    "\n",
    "\n",
    "tools = ToolSet(ask_user_tool)\n",
    "\n",
    "agent = BaseAgent(model=\"openai:gpt-4o-mini\", system_prompt=\"You are a helpful assistant.\", toolset=tools)\n",
    "\n",
    "\n",
    "@agent.system_prompt\n",
    "def add_the_date() -> str:\n",
    "    return f\"The date is {date.today()}.\"\n",
    "\n",
    "\n",
    "print(f\"{agent.to_json()=}\")\n",
    "\n",
    "j = agent.to_json()\n",
    "agent2 = BaseAgent.from_json(j)\n",
    "\n",
    "\n",
    "print(f\"{agent2.to_json()=}\")\n",
    "## Agents tolsets aren't the same, not working in the notebook for some reason"
   ]
  },
  {
   "cell_type": "code",
   "execution_count": 4,
   "metadata": {},
   "outputs": [
    {
     "name": "stdout",
     "output_type": "stream",
     "text": [
      "Could you please provide your birthday so I can determine if today is your birthday?\n"
     ]
    }
   ],
   "source": [
    "result = agent.run_sync(\"is today my birthday?\")\n",
    "print(result.data)"
   ]
  }
 ],
 "metadata": {
  "kernelspec": {
   "display_name": ".venv",
   "language": "python",
   "name": "python3"
  },
  "language_info": {
   "codemirror_mode": {
    "name": "ipython",
    "version": 3
   },
   "file_extension": ".py",
   "mimetype": "text/x-python",
   "name": "python",
   "nbconvert_exporter": "python",
   "pygments_lexer": "ipython3",
   "version": "3.12.8"
  }
 },
 "nbformat": 4,
 "nbformat_minor": 2
}
