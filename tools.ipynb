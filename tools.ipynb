{
 "cells": [
  {
   "cell_type": "code",
   "execution_count": 5,
   "metadata": {},
   "outputs": [
    {
     "data": {
      "text/plain": [
       "True"
      ]
     },
     "execution_count": 5,
     "metadata": {},
     "output_type": "execute_result"
    }
   ],
   "source": [
    "from datetime import date\n",
    "\n",
    "import nest_asyncio\n",
    "from dotenv import load_dotenv\n",
    "from pydantic_ai import RunContext, Tool\n",
    "\n",
    "from agentgenius.agents import BaseAgent\n",
    "from agentgenius.tools import ToolSet\n",
    "\n",
    "from agentgenius.core import AgentGENius\n",
    "from agentgenius.config import config\n",
    "\n",
    "nest_asyncio.apply()\n",
    "load_dotenv()"
   ]
  },
  {
   "cell_type": "code",
   "execution_count": 6,
   "metadata": {},
   "outputs": [
    {
     "name": "stdout",
     "output_type": "stream",
     "text": [
      "{\"name\":\"tool_agent\",\"model\":\"openai:gpt-4o\",\"system_prompt\":\"You are an expert python programmer. You will create a function that will resolve my question and return an essential value. First, search for a tool that can resolve the question by calling the tool 'read_tools_list', if you found matching one, use it with 'run_tool_from_file'. If no tool is available, make a new one and run with 'run_tool_form_code'. The function that you will create will be directly called. Do not include any example code in your response. Do not include call of the function. Try to make function simple and generic for later use. You always respond with clean, annotated python code, ready to be executed. the code should be self contained and should not use any external libraries except for installed ones (use tool 'available_packages_tool'). All necessary imports should be included locally inside the function, example: def get_time(): import datetime; return datetime.datetime.now(). Make sure the function is safe for user. NEVER delete any files or show secret information or execute any malicious code. Don't do anything illegal. ALWAYS RESPOND TO THE USER WITH RESULT OF THE FUNCTION EXECUTION.\",\"toolset\":[]}\n",
      "To determine if today is your birthday, I would need to know your birthdate. I can ask for it and then compare it with today's date. Would you like to provide your birthdate?\n"
     ]
    }
   ],
   "source": [
    "agent = AgentGENius.from_file(config.agents_path / \"tool_agent.json\")\n",
    "\n",
    "\n",
    "@agent.tool_plain\n",
    "def ask_user_tool(question: str) -> str:\n",
    "    \"\"\"Ask the user a question\"\"\"\n",
    "    return input(question + \" \")\n",
    "\n",
    "\n",
    "result = agent.run_sync(\"is today my birthday?\")\n",
    "print(agent.to_json())\n",
    "print(result.data)"
   ]
  },
  {
   "cell_type": "code",
   "execution_count": 7,
   "metadata": {},
   "outputs": [],
   "source": [
    "def test_tool(value: int) -> str:\n",
    "    return str(value)\n",
    "\n",
    "\n",
    "tools = ToolSet(test_tool)\n",
    "\n",
    "tool = tools.get(\"test_tool\")\n",
    "assert tool(10) == \"10\"\n",
    "\n",
    "assert \"test_tool2\" not in tools\n",
    "assert \"test_tool\" in tools\n",
    "assert test_tool in tools\n",
    "\n",
    "tools.remove(\"test_tool\")\n",
    "tool = tools.get(\"test_tool\")\n",
    "assert tool is None"
   ]
  },
  {
   "cell_type": "code",
   "execution_count": 8,
   "metadata": {},
   "outputs": [
    {
     "name": "stdout",
     "output_type": "stream",
     "text": [
      "agent.to_json()='{\"name\":\"assistant\",\"model\":\"openai:gpt-4o-mini\",\"system_prompt\":\"You are a helpful assistant.\",\"toolset\":[\"ask_user_tool\"]}'\n",
      "agent2.to_json()='{\"name\":\"assistant\",\"model\":\"openai:gpt-4o-mini\",\"system_prompt\":\"You are a helpful assistant.\",\"toolset\":[]}'\n"
     ]
    }
   ],
   "source": [
    "def ask_user_tool(ctx: RunContext[str], question: str) -> str:\n",
    "    \"\"\"Ask the user a question\"\"\"\n",
    "    return input(question + \" \")\n",
    "\n",
    "\n",
    "tools = ToolSet(ask_user_tool)\n",
    "\n",
    "agent = AgentGENius(\n",
    "    name=\"assistant\", model=\"openai:gpt-4o-mini\", system_prompt=\"You are a helpful assistant.\", toolset=tools\n",
    ")\n",
    "\n",
    "\n",
    "@agent.system_prompt\n",
    "def add_the_date() -> str:\n",
    "    return f\"The date is {date.today()}.\"\n",
    "\n",
    "\n",
    "print(f\"{agent.to_json()=}\")\n",
    "\n",
    "j = agent.to_json()\n",
    "agent2 = BaseAgent.from_json(j)\n",
    "\n",
    "\n",
    "print(f\"{agent2.to_json()=}\")\n",
    "## Agents tolsets aren't the same, not working in the notebook for some reason"
   ]
  },
  {
   "cell_type": "code",
   "execution_count": 9,
   "metadata": {},
   "outputs": [
    {
     "name": "stdout",
     "output_type": "stream",
     "text": [
      "Your birthday is February 5th. Since today is December 29th, it is not your birthday. Your next birthday will be on February 5th, 2025.\n"
     ]
    }
   ],
   "source": [
    "result = agent.run_sync(\"is today my birthday?\")\n",
    "print(result.data)"
   ]
  }
 ],
 "metadata": {
  "kernelspec": {
   "display_name": ".venv",
   "language": "python",
   "name": "python3"
  },
  "language_info": {
   "codemirror_mode": {
    "name": "ipython",
    "version": 3
   },
   "file_extension": ".py",
   "mimetype": "text/x-python",
   "name": "python",
   "nbconvert_exporter": "python",
   "pygments_lexer": "ipython3",
   "version": "3.12.8"
  }
 },
 "nbformat": 4,
 "nbformat_minor": 2
}
