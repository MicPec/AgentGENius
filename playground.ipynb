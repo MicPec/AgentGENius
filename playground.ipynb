{
 "cells": [
  {
   "cell_type": "markdown",
   "metadata": {},
   "source": [
    "# PLAYGROUND for AgentGENius"
   ]
  },
  {
   "cell_type": "code",
   "execution_count": 7,
   "metadata": {},
   "outputs": [
    {
     "data": {
      "text/plain": [
       "True"
      ]
     },
     "execution_count": 7,
     "metadata": {},
     "output_type": "execute_result"
    }
   ],
   "source": [
    "import logfire\n",
    "from dotenv import load_dotenv\n",
    "from rich import print\n",
    "\n",
    "from agentgenius import AgentDef, Task, TaskDef\n",
    "from agentgenius.builtin_tools import get_datetime, get_location_by_ip, get_user_ip\n",
    "from agentgenius.tasks import TaskList\n",
    "from agentgenius.tools import ToolSet\n",
    "\n",
    "import nest_asyncio\n",
    "\n",
    "\n",
    "nest_asyncio.apply()\n",
    "load_dotenv()"
   ]
  },
  {
   "cell_type": "code",
   "execution_count": 8,
   "metadata": {},
   "outputs": [],
   "source": [
    "agent_def = AgentDef(\n",
    "    model=\"openai:gpt-4o-mini\",\n",
    "    name=\"assistant\",\n",
    "    system_prompt=\"You are a helpful assistant.\",\n",
    "    params={\"retries\": 2},\n",
    ")"
   ]
  },
  {
   "cell_type": "code",
   "execution_count": 9,
   "metadata": {},
   "outputs": [],
   "source": [
    "task_def = TaskDef(\n",
    "    name=\"get time\", question=\"what time is it?\", priority=1, agent=agent_def, toolset=ToolSet([get_datetime])\n",
    ")"
   ]
  },
  {
   "cell_type": "code",
   "execution_count": 10,
   "metadata": {},
   "outputs": [
    {
     "data": {
      "text/html": [
       "<pre style=\"white-space:pre;overflow-x:auto;line-height:normal;font-family:Menlo,'DejaVu Sans Mono',consolas,'Courier New',monospace\">The current time is <span style=\"color: #00ff00; text-decoration-color: #00ff00; font-weight: bold\">22:40:11</span> on January <span style=\"color: #008080; text-decoration-color: #008080; font-weight: bold\">9</span>, <span style=\"color: #008080; text-decoration-color: #008080; font-weight: bold\">2025</span>.\n",
       "</pre>\n"
      ],
      "text/plain": [
       "The current time is \u001b[1;92m22:40:11\u001b[0m on January \u001b[1;36m9\u001b[0m, \u001b[1;36m2025\u001b[0m.\n"
      ]
     },
     "metadata": {},
     "output_type": "display_data"
    }
   ],
   "source": [
    "task = Task(task=task_def)\n",
    "print(task.run_sync().data)"
   ]
  },
  {
   "cell_type": "code",
   "execution_count": 42,
   "metadata": {},
   "outputs": [
    {
     "data": {
      "text/html": [
       "<pre style=\"white-space:pre;overflow-x:auto;line-height:normal;font-family:Menlo,'DejaVu Sans Mono',consolas,'Courier New',monospace\"><span style=\"color: #800080; text-decoration-color: #800080; font-weight: bold\">ToolCode</span><span style=\"font-weight: bold\">(</span>\n",
       "    <span style=\"color: #808000; text-decoration-color: #808000\">name</span>=<span style=\"color: #008000; text-decoration-color: #008000\">'get_current_time'</span>,\n",
       "    <span style=\"color: #808000; text-decoration-color: #808000\">code</span>=<span style=\"color: #008000; text-decoration-color: #008000\">'def get_current_time() -&gt; str:\\n    \"\"\"\\n    Returns the current local time as a string in the format </span>\n",
       "<span style=\"color: #008000; text-decoration-color: #008000\">\\'HH:MM:SS\\'.\\n    \"\"\"\\n    from datetime import datetime\\n    return datetime.now().strftime(\\'%H:%M:%S\\')'</span>\n",
       "<span style=\"font-weight: bold\">)</span>\n",
       "</pre>\n"
      ],
      "text/plain": [
       "\u001b[1;35mToolCode\u001b[0m\u001b[1m(\u001b[0m\n",
       "    \u001b[33mname\u001b[0m=\u001b[32m'get_current_time'\u001b[0m,\n",
       "    \u001b[33mcode\u001b[0m=\u001b[32m'def get_current_time\u001b[0m\u001b[32m(\u001b[0m\u001b[32m)\u001b[0m\u001b[32m -> str:\\n    \"\"\"\\n    Returns the current local time as a string in the format \u001b[0m\n",
       "\u001b[32m\\'HH:MM:SS\\'.\\n    \"\"\"\\n    from datetime import datetime\\n    return datetime.now\u001b[0m\u001b[32m(\u001b[0m\u001b[32m)\u001b[0m\u001b[32m.strftime\u001b[0m\u001b[32m(\u001b[0m\u001b[32m\\'%H:%M:%S\\'\u001b[0m\u001b[32m)\u001b[0m\u001b[32m'\u001b[0m\n",
       "\u001b[1m)\u001b[0m\n"
      ]
     },
     "metadata": {},
     "output_type": "display_data"
    }
   ],
   "source": [
    "from agentgenius.config import prompt_lib\n",
    "from pydantic.dataclasses import dataclass\n",
    "\n",
    "\n",
    "@dataclass\n",
    "class ToolCode:\n",
    "    name: str\n",
    "    code: str\n",
    "\n",
    "\n",
    "class CoderTask(TaskDef):\n",
    "    def __init__(self, question=\"\"):\n",
    "        self.name = \"coder\"\n",
    "        self.question = \"write a python function give answer to my question: \" + question\n",
    "        self.priority = 1\n",
    "        self.agent = AgentDef(\n",
    "            model=\"openai:gpt-4o\",\n",
    "            name=\"coder\",\n",
    "            system_prompt=prompt_lib[\"tool_agent\"],\n",
    "            params={\"retries\": 2, \"result_type\": ToolCode},\n",
    "        )\n",
    "        self.toolset = ToolSet([])\n",
    "\n",
    "\n",
    "coder = Task(CoderTask(\"what time is it?\"))\n",
    "print(coder.run_sync().data)"
   ]
  }
 ],
 "metadata": {
  "kernelspec": {
   "display_name": ".venv",
   "language": "python",
   "name": "python3"
  },
  "language_info": {
   "codemirror_mode": {
    "name": "ipython",
    "version": 3
   },
   "file_extension": ".py",
   "mimetype": "text/x-python",
   "name": "python",
   "nbconvert_exporter": "python",
   "pygments_lexer": "ipython3",
   "version": "3.12.8"
  }
 },
 "nbformat": 4,
 "nbformat_minor": 2
}
