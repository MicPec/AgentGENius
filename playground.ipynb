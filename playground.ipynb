{
 "cells": [
  {
   "cell_type": "markdown",
   "metadata": {},
   "source": [
    "# PLAYGROUND for AgentGENius"
   ]
  },
  {
   "cell_type": "code",
   "execution_count": 1,
   "metadata": {},
   "outputs": [
    {
     "data": {
      "text/plain": [
       "True"
      ]
     },
     "execution_count": 1,
     "metadata": {},
     "output_type": "execute_result"
    }
   ],
   "source": [
    "from datetime import date\n",
    "\n",
    "import nest_asyncio\n",
    "from dotenv import load_dotenv\n",
    "from pydantic_ai import RunContext, Tool\n",
    "\n",
    "from agentgenius.agents import AgentStore, BaseAgent\n",
    "from agentgenius.config import config\n",
    "from agentgenius.core import AgentGENius\n",
    "from agentgenius.tools import ToolSet\n",
    "\n",
    "nest_asyncio.apply()\n",
    "load_dotenv()"
   ]
  },
  {
   "cell_type": "markdown",
   "metadata": {},
   "source": [
    "## Testing AgentStore "
   ]
  },
  {
   "cell_type": "code",
   "execution_count": 2,
   "metadata": {},
   "outputs": [
    {
     "name": "stdout",
     "output_type": "stream",
     "text": [
      "Test received! How can I assist you today?\n"
     ]
    }
   ],
   "source": [
    "ags = AgentStore(config.agents_path).load_agents()\n",
    "# ags.add(AgentGENius.from_file(config.agents_path / \"assistant.json\"))\n",
    "print(ags.list())\n",
    "\n",
    "if agent := ags[\"assistant\"]:\n",
    "    print(agent.run_sync(\"test\").data)"
   ]
  },
  {
   "cell_type": "code",
   "execution_count": 11,
   "metadata": {},
   "outputs": [
    {
     "name": "stdout",
     "output_type": "stream",
     "text": [
      "{\"name\":\"assistant\",\"model\":\"openai:gpt-4o-mini\",\"system_prompt\":\"You are a helpful AI assistant.\",\"toolset\":[]}\n",
      "Today is not your birthday. Happy birthday for when it comes!\n"
     ]
    }
   ],
   "source": [
    "agent = AgentGENius.from_file(config.agents_path / \"assistant.json\")\n",
    "\n",
    "\n",
    "@agent.tool_plain\n",
    "def ask_user_tool(question: str) -> str:\n",
    "    \"\"\"Ask the user a question\"\"\"\n",
    "    return input(question + \" \")\n",
    "\n",
    "\n",
    "result = agent.run_sync(\"is today my birthday?\")\n",
    "print(agent.to_json())\n",
    "print(result.data)"
   ]
  },
  {
   "cell_type": "code",
   "execution_count": 12,
   "metadata": {},
   "outputs": [],
   "source": [
    "def test_tool(value: int) -> str:\n",
    "    return str(value)\n",
    "\n",
    "\n",
    "tools = ToolSet(test_tool)\n",
    "\n",
    "tool = tools.get(\"test_tool\")\n",
    "assert tool(10) == \"10\"\n",
    "\n",
    "assert \"test_tool2\" not in tools\n",
    "assert \"test_tool\" in tools\n",
    "assert test_tool in tools\n",
    "\n",
    "tools.remove(\"test_tool\")\n",
    "tool = tools.get(\"test_tool\")\n",
    "assert tool is None"
   ]
  },
  {
   "cell_type": "code",
   "execution_count": 13,
   "metadata": {},
   "outputs": [
    {
     "name": "stdout",
     "output_type": "stream",
     "text": [
      "agent.to_json()='{\"name\":\"assistant\",\"model\":\"openai:gpt-4o-mini\",\"system_prompt\":\"You are a helpful assistant.\",\"toolset\":[\"ask_user_tool\"]}'\n",
      "agent2.to_json()='{\"name\":\"assistant\",\"model\":\"openai:gpt-4o-mini\",\"system_prompt\":\"You are a helpful assistant.\",\"toolset\":[]}'\n"
     ]
    }
   ],
   "source": [
    "def ask_user_tool(ctx: RunContext[str], question: str) -> str:\n",
    "    \"\"\"Ask the user a question\"\"\"\n",
    "    return input(question + \" \")\n",
    "\n",
    "\n",
    "tools = ToolSet(ask_user_tool)\n",
    "\n",
    "agent = AgentGENius(\n",
    "    name=\"assistant\", model=\"openai:gpt-4o-mini\", system_prompt=\"You are a helpful assistant.\", toolset=tools\n",
    ")\n",
    "\n",
    "\n",
    "@agent.system_prompt\n",
    "def add_the_date() -> str:\n",
    "    return f\"The date is {date.today()}.\"\n",
    "\n",
    "\n",
    "print(f\"{agent.to_json()=}\")\n",
    "\n",
    "j = agent.to_json()\n",
    "agent2 = BaseAgent.from_json(j)\n",
    "\n",
    "\n",
    "print(f\"{agent2.to_json()=}\")\n",
    "## Agents tolsets aren't the same, not working in the notebook for some reason"
   ]
  }
 ],
 "metadata": {
  "kernelspec": {
   "display_name": ".venv",
   "language": "python",
   "name": "python3"
  },
  "language_info": {
   "codemirror_mode": {
    "name": "ipython",
    "version": 3
   },
   "file_extension": ".py",
   "mimetype": "text/x-python",
   "name": "python",
   "nbconvert_exporter": "python",
   "pygments_lexer": "ipython3",
   "version": "3.12.8"
  }
 },
 "nbformat": 4,
 "nbformat_minor": 2
}
