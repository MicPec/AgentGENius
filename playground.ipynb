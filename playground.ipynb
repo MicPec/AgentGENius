{
 "cells": [
  {
   "cell_type": "markdown",
   "metadata": {},
   "source": [
    "# PLAYGROUND for AgentGENius"
   ]
  },
  {
   "cell_type": "code",
   "execution_count": 1,
   "metadata": {},
   "outputs": [
    {
     "data": {
      "text/plain": [
       "True"
      ]
     },
     "execution_count": 1,
     "metadata": {},
     "output_type": "execute_result"
    }
   ],
   "source": [
    "import logfire\n",
    "from dotenv import load_dotenv\n",
    "from rich import print\n",
    "\n",
    "from agentgenius import AgentDef, Task, TaskDef\n",
    "from agentgenius.builtin_tools import get_datetime, get_location_by_ip, get_user_ip\n",
    "from agentgenius.tasks import TaskList\n",
    "from agentgenius.tools import ToolSet\n",
    "\n",
    "import nest_asyncio\n",
    "\n",
    "\n",
    "nest_asyncio.apply()\n",
    "load_dotenv()"
   ]
  },
  {
   "cell_type": "code",
   "execution_count": 2,
   "metadata": {},
   "outputs": [],
   "source": [
    "agent_def = AgentDef(\n",
    "    model=\"openai:gpt-4o-mini\",\n",
    "    name=\"assistant\",\n",
    "    system_prompt=\"You are a helpful assistant.\",\n",
    "    params={\"retries\": 2},\n",
    ")"
   ]
  },
  {
   "cell_type": "code",
   "execution_count": 3,
   "metadata": {},
   "outputs": [],
   "source": [
    "task_def = TaskDef(\n",
    "    name=\"get time\", question=\"what time is it?\", priority=1, agent=agent_def, toolset=ToolSet([get_datetime])\n",
    ")"
   ]
  },
  {
   "cell_type": "code",
   "execution_count": 4,
   "metadata": {},
   "outputs": [
    {
     "name": "stderr",
     "output_type": "stream",
     "text": [
      "/home/michal/DEV/AgentGENius/agentgenius/tasks.py:89: LogfireNotConfiguredWarning: No logs or spans will be created until `logfire.configure()` has been called. Set the environment variable LOGFIRE_IGNORE_NO_CONFIG=1 or add ignore_no_config=true in pyproject.toml to suppress this warning.\n",
      "  return self.agent.run_sync(question, **kwargs)\n"
     ]
    },
    {
     "data": {
      "text/html": [
       "<pre style=\"white-space:pre;overflow-x:auto;line-height:normal;font-family:Menlo,'DejaVu Sans Mono',consolas,'Courier New',monospace\">The current time is <span style=\"color: #00ff00; text-decoration-color: #00ff00; font-weight: bold\">22:39:10</span> on January <span style=\"color: #008080; text-decoration-color: #008080; font-weight: bold\">8</span>, <span style=\"color: #008080; text-decoration-color: #008080; font-weight: bold\">2025</span>.\n",
       "</pre>\n"
      ],
      "text/plain": [
       "The current time is \u001b[1;92m22:39:10\u001b[0m on January \u001b[1;36m8\u001b[0m, \u001b[1;36m2025\u001b[0m.\n"
      ]
     },
     "metadata": {},
     "output_type": "display_data"
    }
   ],
   "source": [
    "task = Task(task=task_def)\n",
    "print(task.run_sync().data)"
   ]
  }
 ],
 "metadata": {
  "kernelspec": {
   "display_name": ".venv",
   "language": "python",
   "name": "python3"
  },
  "language_info": {
   "codemirror_mode": {
    "name": "ipython",
    "version": 3
   },
   "file_extension": ".py",
   "mimetype": "text/x-python",
   "name": "python",
   "nbconvert_exporter": "python",
   "pygments_lexer": "ipython3",
   "version": "3.12.8"
  }
 },
 "nbformat": 4,
 "nbformat_minor": 2
}
