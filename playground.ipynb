{
 "cells": [
  {
   "cell_type": "markdown",
   "metadata": {},
   "source": [
    "# PLAYGROUND for AgentGENius"
   ]
  },
  {
   "cell_type": "code",
   "execution_count": 16,
   "metadata": {},
   "outputs": [
    {
     "data": {
      "text/plain": [
       "True"
      ]
     },
     "execution_count": 16,
     "metadata": {},
     "output_type": "execute_result"
    }
   ],
   "source": [
    "import logfire\n",
    "import nest_asyncio\n",
    "from dotenv import load_dotenv\n",
    "from rich import print\n",
    "\n",
    "from agentgenius import AgentDef, AgentParams, Task, TaskDef\n",
    "from agentgenius.builtin_tools import get_datetime, get_location_by_ip, get_user_ip\n",
    "from agentgenius.tasks import Task, TaskDef\n",
    "from agentgenius.tools import ToolDef, ToolSet\n",
    "from agentgenius.utils import TypeAdapterMixin\n",
    "\n",
    "nest_asyncio.apply()\n",
    "load_dotenv()"
   ]
  },
  {
   "cell_type": "code",
   "execution_count": 17,
   "metadata": {},
   "outputs": [
    {
     "data": {
      "text/html": [
       "<pre style=\"white-space:pre;overflow-x:auto;line-height:normal;font-family:Menlo,'DejaVu Sans Mono',consolas,'Courier New',monospace\"><span style=\"font-weight: bold\">{</span>\n",
       "    <span style=\"color: #008000; text-decoration-color: #008000\">'result_type'</span>: <span style=\"font-weight: bold\">&lt;</span><span style=\"color: #ff00ff; text-decoration-color: #ff00ff; font-weight: bold\">class</span><span style=\"color: #000000; text-decoration-color: #000000\"> </span><span style=\"color: #008000; text-decoration-color: #008000\">'agentgenius.tasks.TaskDef'</span><span style=\"color: #000000; text-decoration-color: #000000\">&gt;,</span>\n",
       "<span style=\"color: #000000; text-decoration-color: #000000\">    </span><span style=\"color: #008000; text-decoration-color: #008000\">'deps_type'</span><span style=\"color: #000000; text-decoration-color: #000000\">: &lt;class </span><span style=\"color: #008000; text-decoration-color: #008000\">'NoneType'</span><span style=\"font-weight: bold\">&gt;</span>,\n",
       "    <span style=\"color: #008000; text-decoration-color: #008000\">'model_settings'</span>: <span style=\"color: #800080; text-decoration-color: #800080; font-style: italic\">None</span>,\n",
       "    <span style=\"color: #008000; text-decoration-color: #008000\">'retries'</span>: <span style=\"color: #008080; text-decoration-color: #008080; font-weight: bold\">2</span>,\n",
       "    <span style=\"color: #008000; text-decoration-color: #008000\">'result_tool_name'</span>: <span style=\"color: #008000; text-decoration-color: #008000\">'final_result'</span>,\n",
       "    <span style=\"color: #008000; text-decoration-color: #008000\">'result_tool_description'</span>: <span style=\"color: #800080; text-decoration-color: #800080; font-style: italic\">None</span>,\n",
       "    <span style=\"color: #008000; text-decoration-color: #008000\">'result_retries'</span>: <span style=\"color: #800080; text-decoration-color: #800080; font-style: italic\">None</span>,\n",
       "    <span style=\"color: #008000; text-decoration-color: #008000\">'defer_model_check'</span>: <span style=\"color: #ff0000; text-decoration-color: #ff0000; font-style: italic\">False</span>,\n",
       "    <span style=\"color: #008000; text-decoration-color: #008000\">'end_strategy'</span>: <span style=\"color: #008000; text-decoration-color: #008000\">'early'</span>\n",
       "<span style=\"font-weight: bold\">}</span>\n",
       "</pre>\n"
      ],
      "text/plain": [
       "\u001b[1m{\u001b[0m\n",
       "    \u001b[32m'result_type'\u001b[0m: \u001b[1m<\u001b[0m\u001b[1;95mclass\u001b[0m\u001b[39m \u001b[0m\u001b[32m'agentgenius.tasks.TaskDef'\u001b[0m\u001b[39m>,\u001b[0m\n",
       "\u001b[39m    \u001b[0m\u001b[32m'deps_type'\u001b[0m\u001b[39m: <class \u001b[0m\u001b[32m'NoneType'\u001b[0m\u001b[1m>\u001b[0m,\n",
       "    \u001b[32m'model_settings'\u001b[0m: \u001b[3;35mNone\u001b[0m,\n",
       "    \u001b[32m'retries'\u001b[0m: \u001b[1;36m2\u001b[0m,\n",
       "    \u001b[32m'result_tool_name'\u001b[0m: \u001b[32m'final_result'\u001b[0m,\n",
       "    \u001b[32m'result_tool_description'\u001b[0m: \u001b[3;35mNone\u001b[0m,\n",
       "    \u001b[32m'result_retries'\u001b[0m: \u001b[3;35mNone\u001b[0m,\n",
       "    \u001b[32m'defer_model_check'\u001b[0m: \u001b[3;91mFalse\u001b[0m,\n",
       "    \u001b[32m'end_strategy'\u001b[0m: \u001b[32m'early'\u001b[0m\n",
       "\u001b[1m}\u001b[0m\n"
      ]
     },
     "metadata": {},
     "output_type": "display_data"
    }
   ],
   "source": [
    "agent_def = AgentDef(\n",
    "    model=\"openai:gpt-4o-mini\",\n",
    "    name=\"assistant\",\n",
    "    system_prompt=\"You are a helpful assistant.\",\n",
    "    params=AgentParams(\n",
    "        result_type=TaskDef,\n",
    "        retries=2,\n",
    "    ),\n",
    ")\n",
    "\n",
    "# json_data = agent_def.model_dump_json()\n",
    "# print(json_data)\n",
    "# agent_def = AgentDef.model_validate_json(json_data)\n",
    "# print(agent_def)\n",
    "# print(agent_def.model_json_schema())\n",
    "print(agent_def.params.__dict__)"
   ]
  },
  {
   "cell_type": "code",
   "execution_count": 18,
   "metadata": {},
   "outputs": [
    {
     "data": {
      "text/html": [
       "<pre style=\"white-space:pre;overflow-x:auto;line-height:normal;font-family:Menlo,'DejaVu Sans Mono',consolas,'Courier New',monospace\"><span style=\"font-weight: bold\">{</span><span style=\"color: #008000; text-decoration-color: #008000\">\"name\"</span>:<span style=\"color: #008000; text-decoration-color: #008000\">\"foo\"</span><span style=\"font-weight: bold\">}</span>\n",
       "</pre>\n"
      ],
      "text/plain": [
       "\u001b[1m{\u001b[0m\u001b[32m\"name\"\u001b[0m:\u001b[32m\"foo\"\u001b[0m\u001b[1m}\u001b[0m\n"
      ]
     },
     "metadata": {},
     "output_type": "display_data"
    },
    {
     "data": {
      "text/html": [
       "<pre style=\"white-space:pre;overflow-x:auto;line-height:normal;font-family:Menlo,'DejaVu Sans Mono',consolas,'Courier New',monospace\"><span style=\"color: #800080; text-decoration-color: #800080; font-weight: bold\">ToolDef</span><span style=\"font-weight: bold\">(</span><span style=\"color: #808000; text-decoration-color: #808000\">name</span>=<span style=\"color: #008000; text-decoration-color: #008000\">'foo'</span><span style=\"font-weight: bold\">)</span>\n",
       "</pre>\n"
      ],
      "text/plain": [
       "\u001b[1;35mToolDef\u001b[0m\u001b[1m(\u001b[0m\u001b[33mname\u001b[0m=\u001b[32m'foo'\u001b[0m\u001b[1m)\u001b[0m\n"
      ]
     },
     "metadata": {},
     "output_type": "display_data"
    }
   ],
   "source": [
    "def foo():\n",
    "    return \"bar\"\n",
    "\n",
    "\n",
    "tool = ToolDef(\"foo\")\n",
    "\n",
    "json_data = tool.model_dump_json()\n",
    "print(json_data)\n",
    "tool = ToolDef.model_validate_json(json_data)\n",
    "print(tool)"
   ]
  },
  {
   "cell_type": "code",
   "execution_count": 19,
   "metadata": {},
   "outputs": [
    {
     "data": {
      "text/html": [
       "<pre style=\"white-space:pre;overflow-x:auto;line-height:normal;font-family:Menlo,'DejaVu Sans Mono',consolas,'Courier New',monospace\"><span style=\"font-weight: bold\">{</span><span style=\"color: #008000; text-decoration-color: #008000\">\"tools\"</span>:<span style=\"font-weight: bold\">[{</span><span style=\"color: #008000; text-decoration-color: #008000\">\"name\"</span>:<span style=\"color: #008000; text-decoration-color: #008000\">\"foo\"</span><span style=\"font-weight: bold\">}]}</span>\n",
       "</pre>\n"
      ],
      "text/plain": [
       "\u001b[1m{\u001b[0m\u001b[32m\"tools\"\u001b[0m:\u001b[1m[\u001b[0m\u001b[1m{\u001b[0m\u001b[32m\"name\"\u001b[0m:\u001b[32m\"foo\"\u001b[0m\u001b[1m}\u001b[0m\u001b[1m]\u001b[0m\u001b[1m}\u001b[0m\n"
      ]
     },
     "metadata": {},
     "output_type": "display_data"
    },
    {
     "data": {
      "text/html": [
       "<pre style=\"white-space:pre;overflow-x:auto;line-height:normal;font-family:Menlo,'DejaVu Sans Mono',consolas,'Courier New',monospace\"><span style=\"color: #800080; text-decoration-color: #800080; font-weight: bold\">ToolSet</span><span style=\"font-weight: bold\">(</span><span style=\"color: #808000; text-decoration-color: #808000\">tools</span>=<span style=\"font-weight: bold\">[</span><span style=\"color: #800080; text-decoration-color: #800080; font-weight: bold\">ToolDef</span><span style=\"font-weight: bold\">(</span><span style=\"color: #808000; text-decoration-color: #808000\">name</span>=<span style=\"color: #008000; text-decoration-color: #008000\">'foo'</span><span style=\"font-weight: bold\">)])</span>\n",
       "</pre>\n"
      ],
      "text/plain": [
       "\u001b[1;35mToolSet\u001b[0m\u001b[1m(\u001b[0m\u001b[33mtools\u001b[0m=\u001b[1m[\u001b[0m\u001b[1;35mToolDef\u001b[0m\u001b[1m(\u001b[0m\u001b[33mname\u001b[0m=\u001b[32m'foo'\u001b[0m\u001b[1m)\u001b[0m\u001b[1m]\u001b[0m\u001b[1m)\u001b[0m\n"
      ]
     },
     "metadata": {},
     "output_type": "display_data"
    }
   ],
   "source": [
    "toolset = ToolSet([\"foo\"])\n",
    "json_data = toolset.model_dump_json()\n",
    "print(json_data)\n",
    "toolset = ToolSet.model_validate_json(json_data)\n",
    "print(toolset)"
   ]
  },
  {
   "cell_type": "code",
   "execution_count": 20,
   "metadata": {},
   "outputs": [
    {
     "data": {
      "text/html": [
       "<pre style=\"white-space:pre;overflow-x:auto;line-height:normal;font-family:Menlo,'DejaVu Sans Mono',consolas,'Courier New',monospace\"><span style=\"font-weight: bold\">{</span><span style=\"color: #008000; text-decoration-color: #008000\">\"name\"</span>:<span style=\"color: #008000; text-decoration-color: #008000\">\"get time\"</span>,<span style=\"color: #008000; text-decoration-color: #008000\">\"question\"</span>:<span style=\"color: #008000; text-decoration-color: #008000\">\"what time is </span>\n",
       "<span style=\"color: #008000; text-decoration-color: #008000\">it?\"</span>,<span style=\"color: #008000; text-decoration-color: #008000\">\"agent_def\"</span>:<span style=\"font-weight: bold\">{</span><span style=\"color: #008000; text-decoration-color: #008000\">\"model\"</span>:<span style=\"color: #008000; text-decoration-color: #008000\">\"openai:gpt-4o\"</span>,<span style=\"color: #008000; text-decoration-color: #008000\">\"name\"</span>:<span style=\"color: #008000; text-decoration-color: #008000\">\"TimeFetcher\"</span>,<span style=\"color: #008000; text-decoration-color: #008000\">\"system_prompt\"</span>:<span style=\"color: #008000; text-decoration-color: #008000\">\"You fetch the current date and time</span>\n",
       "<span style=\"color: #008000; text-decoration-color: #008000\">from the system.\"</span><span style=\"font-weight: bold\">}</span>,<span style=\"color: #008000; text-decoration-color: #008000\">\"toolset\"</span>:<span style=\"font-weight: bold\">{</span><span style=\"color: #008000; text-decoration-color: #008000\">\"tools\"</span>:<span style=\"font-weight: bold\">[{</span><span style=\"color: #008000; text-decoration-color: #008000\">\"name\"</span>:<span style=\"color: #008000; text-decoration-color: #008000\">\"get_datetime\"</span><span style=\"font-weight: bold\">}</span>,<span style=\"font-weight: bold\">{</span><span style=\"color: #008000; text-decoration-color: #008000\">\"name\"</span>:<span style=\"color: #008000; text-decoration-color: #008000\">\"foo\"</span><span style=\"font-weight: bold\">}]}}</span>\n",
       "</pre>\n"
      ],
      "text/plain": [
       "\u001b[1m{\u001b[0m\u001b[32m\"name\"\u001b[0m:\u001b[32m\"get time\"\u001b[0m,\u001b[32m\"question\"\u001b[0m:\u001b[32m\"what time is \u001b[0m\n",
       "\u001b[32mit?\"\u001b[0m,\u001b[32m\"agent_def\"\u001b[0m:\u001b[1m{\u001b[0m\u001b[32m\"model\"\u001b[0m:\u001b[32m\"openai:gpt-4o\"\u001b[0m,\u001b[32m\"name\"\u001b[0m:\u001b[32m\"TimeFetcher\"\u001b[0m,\u001b[32m\"system_prompt\"\u001b[0m:\u001b[32m\"You fetch the current date and time\u001b[0m\n",
       "\u001b[32mfrom the system.\"\u001b[0m\u001b[1m}\u001b[0m,\u001b[32m\"toolset\"\u001b[0m:\u001b[1m{\u001b[0m\u001b[32m\"tools\"\u001b[0m:\u001b[1m[\u001b[0m\u001b[1m{\u001b[0m\u001b[32m\"name\"\u001b[0m:\u001b[32m\"get_datetime\"\u001b[0m\u001b[1m}\u001b[0m,\u001b[1m{\u001b[0m\u001b[32m\"name\"\u001b[0m:\u001b[32m\"foo\"\u001b[0m\u001b[1m}\u001b[0m\u001b[1m]\u001b[0m\u001b[1m}\u001b[0m\u001b[1m}\u001b[0m\n"
      ]
     },
     "metadata": {},
     "output_type": "display_data"
    },
    {
     "data": {
      "text/html": [
       "<pre style=\"white-space:pre;overflow-x:auto;line-height:normal;font-family:Menlo,'DejaVu Sans Mono',consolas,'Courier New',monospace\"><span style=\"color: #800080; text-decoration-color: #800080; font-weight: bold\">TaskDef</span><span style=\"font-weight: bold\">(</span>\n",
       "    <span style=\"color: #808000; text-decoration-color: #808000\">name</span>=<span style=\"color: #008000; text-decoration-color: #008000\">'get time'</span>,\n",
       "    <span style=\"color: #808000; text-decoration-color: #808000\">question</span>=<span style=\"color: #008000; text-decoration-color: #008000\">'what time is it?'</span>,\n",
       "    <span style=\"color: #808000; text-decoration-color: #808000\">priority</span>=<span style=\"color: #008080; text-decoration-color: #008080; font-weight: bold\">1</span>,\n",
       "    <span style=\"color: #808000; text-decoration-color: #808000\">agent_def</span>=<span style=\"color: #800080; text-decoration-color: #800080; font-weight: bold\">AgentDef</span><span style=\"font-weight: bold\">(</span>\n",
       "        <span style=\"color: #808000; text-decoration-color: #808000\">model</span>=<span style=\"color: #008000; text-decoration-color: #008000\">'openai:gpt-4o'</span>,\n",
       "        <span style=\"color: #808000; text-decoration-color: #808000\">name</span>=<span style=\"color: #008000; text-decoration-color: #008000\">'TimeFetcher'</span>,\n",
       "        <span style=\"color: #808000; text-decoration-color: #808000\">system_prompt</span>=<span style=\"color: #008000; text-decoration-color: #008000\">'You fetch the current date and time from the system.'</span>,\n",
       "        <span style=\"color: #808000; text-decoration-color: #808000\">params</span>=<span style=\"color: #800080; text-decoration-color: #800080; font-style: italic\">None</span>\n",
       "    <span style=\"font-weight: bold\">)</span>,\n",
       "    <span style=\"color: #808000; text-decoration-color: #808000\">toolset</span>=<span style=\"color: #800080; text-decoration-color: #800080; font-weight: bold\">ToolSet</span><span style=\"font-weight: bold\">(</span><span style=\"color: #808000; text-decoration-color: #808000\">tools</span>=<span style=\"font-weight: bold\">[</span><span style=\"color: #800080; text-decoration-color: #800080; font-weight: bold\">ToolDef</span><span style=\"font-weight: bold\">(</span><span style=\"color: #808000; text-decoration-color: #808000\">name</span>=<span style=\"color: #008000; text-decoration-color: #008000\">'get_datetime'</span><span style=\"font-weight: bold\">)</span>, <span style=\"color: #800080; text-decoration-color: #800080; font-weight: bold\">ToolDef</span><span style=\"font-weight: bold\">(</span><span style=\"color: #808000; text-decoration-color: #808000\">name</span>=<span style=\"color: #008000; text-decoration-color: #008000\">'foo'</span><span style=\"font-weight: bold\">)])</span>\n",
       "<span style=\"font-weight: bold\">)</span>\n",
       "</pre>\n"
      ],
      "text/plain": [
       "\u001b[1;35mTaskDef\u001b[0m\u001b[1m(\u001b[0m\n",
       "    \u001b[33mname\u001b[0m=\u001b[32m'get time'\u001b[0m,\n",
       "    \u001b[33mquestion\u001b[0m=\u001b[32m'what time is it?'\u001b[0m,\n",
       "    \u001b[33mpriority\u001b[0m=\u001b[1;36m1\u001b[0m,\n",
       "    \u001b[33magent_def\u001b[0m=\u001b[1;35mAgentDef\u001b[0m\u001b[1m(\u001b[0m\n",
       "        \u001b[33mmodel\u001b[0m=\u001b[32m'openai:gpt-4o'\u001b[0m,\n",
       "        \u001b[33mname\u001b[0m=\u001b[32m'TimeFetcher'\u001b[0m,\n",
       "        \u001b[33msystem_prompt\u001b[0m=\u001b[32m'You fetch the current date and time from the system.'\u001b[0m,\n",
       "        \u001b[33mparams\u001b[0m=\u001b[3;35mNone\u001b[0m\n",
       "    \u001b[1m)\u001b[0m,\n",
       "    \u001b[33mtoolset\u001b[0m=\u001b[1;35mToolSet\u001b[0m\u001b[1m(\u001b[0m\u001b[33mtools\u001b[0m=\u001b[1m[\u001b[0m\u001b[1;35mToolDef\u001b[0m\u001b[1m(\u001b[0m\u001b[33mname\u001b[0m=\u001b[32m'get_datetime'\u001b[0m\u001b[1m)\u001b[0m, \u001b[1;35mToolDef\u001b[0m\u001b[1m(\u001b[0m\u001b[33mname\u001b[0m=\u001b[32m'foo'\u001b[0m\u001b[1m)\u001b[0m\u001b[1m]\u001b[0m\u001b[1m)\u001b[0m\n",
       "\u001b[1m)\u001b[0m\n"
      ]
     },
     "metadata": {},
     "output_type": "display_data"
    }
   ],
   "source": [
    "task_def = TaskDef(\n",
    "    name=\"get time\",\n",
    "    question=\"what time is it?\",\n",
    "    priority=1,\n",
    "    agent_def=AgentDef(\n",
    "        model=\"openai:gpt-4o\",\n",
    "        name=\"TimeFetcher\",\n",
    "        system_prompt=\"You fetch the current date and time from the system.\",\n",
    "    ),\n",
    "    toolset=ToolSet(\n",
    "        [get_datetime, foo],\n",
    "    ),\n",
    ")\n",
    "\n",
    "json_data = task_def.model_dump_json(exclude_unset=True, exclude_defaults=True)\n",
    "print(json_data)\n",
    "task_def = TaskDef.model_validate_json(json_data)\n",
    "print(task_def)"
   ]
  },
  {
   "cell_type": "code",
   "execution_count": 21,
   "metadata": {},
   "outputs": [
    {
     "data": {
      "text/html": [
       "<pre style=\"white-space:pre;overflow-x:auto;line-height:normal;font-family:Menlo,'DejaVu Sans Mono',consolas,'Courier New',monospace\"><span style=\"color: #800080; text-decoration-color: #800080; font-weight: bold\">TaskDef</span><span style=\"font-weight: bold\">(</span>\n",
       "    <span style=\"color: #808000; text-decoration-color: #808000\">name</span>=<span style=\"color: #008000; text-decoration-color: #008000\">'get time'</span>,\n",
       "    <span style=\"color: #808000; text-decoration-color: #808000\">question</span>=<span style=\"color: #008000; text-decoration-color: #008000\">'what time is it?'</span>,\n",
       "    <span style=\"color: #808000; text-decoration-color: #808000\">priority</span>=<span style=\"color: #008080; text-decoration-color: #008080; font-weight: bold\">1</span>,\n",
       "    <span style=\"color: #808000; text-decoration-color: #808000\">agent_def</span>=<span style=\"color: #800080; text-decoration-color: #800080; font-weight: bold\">AgentDef</span><span style=\"font-weight: bold\">(</span>\n",
       "        <span style=\"color: #808000; text-decoration-color: #808000\">model</span>=<span style=\"color: #008000; text-decoration-color: #008000\">'openai:gpt-4o'</span>,\n",
       "        <span style=\"color: #808000; text-decoration-color: #808000\">name</span>=<span style=\"color: #008000; text-decoration-color: #008000\">'TimeFetcher'</span>,\n",
       "        <span style=\"color: #808000; text-decoration-color: #808000\">system_prompt</span>=<span style=\"color: #008000; text-decoration-color: #008000\">'You fetch the current date and time from the system.'</span>,\n",
       "        <span style=\"color: #808000; text-decoration-color: #808000\">params</span>=<span style=\"color: #800080; text-decoration-color: #800080; font-style: italic\">None</span>\n",
       "    <span style=\"font-weight: bold\">)</span>,\n",
       "    <span style=\"color: #808000; text-decoration-color: #808000\">toolset</span>=<span style=\"color: #800080; text-decoration-color: #800080; font-weight: bold\">ToolSet</span><span style=\"font-weight: bold\">(</span><span style=\"color: #808000; text-decoration-color: #808000\">tools</span>=<span style=\"font-weight: bold\">[</span><span style=\"color: #800080; text-decoration-color: #800080; font-weight: bold\">ToolDef</span><span style=\"font-weight: bold\">(</span><span style=\"color: #808000; text-decoration-color: #808000\">name</span>=<span style=\"color: #008000; text-decoration-color: #008000\">'foo'</span><span style=\"font-weight: bold\">)])</span>\n",
       "<span style=\"font-weight: bold\">)</span>\n",
       "</pre>\n"
      ],
      "text/plain": [
       "\u001b[1;35mTaskDef\u001b[0m\u001b[1m(\u001b[0m\n",
       "    \u001b[33mname\u001b[0m=\u001b[32m'get time'\u001b[0m,\n",
       "    \u001b[33mquestion\u001b[0m=\u001b[32m'what time is it?'\u001b[0m,\n",
       "    \u001b[33mpriority\u001b[0m=\u001b[1;36m1\u001b[0m,\n",
       "    \u001b[33magent_def\u001b[0m=\u001b[1;35mAgentDef\u001b[0m\u001b[1m(\u001b[0m\n",
       "        \u001b[33mmodel\u001b[0m=\u001b[32m'openai:gpt-4o'\u001b[0m,\n",
       "        \u001b[33mname\u001b[0m=\u001b[32m'TimeFetcher'\u001b[0m,\n",
       "        \u001b[33msystem_prompt\u001b[0m=\u001b[32m'You fetch the current date and time from the system.'\u001b[0m,\n",
       "        \u001b[33mparams\u001b[0m=\u001b[3;35mNone\u001b[0m\n",
       "    \u001b[1m)\u001b[0m,\n",
       "    \u001b[33mtoolset\u001b[0m=\u001b[1;35mToolSet\u001b[0m\u001b[1m(\u001b[0m\u001b[33mtools\u001b[0m=\u001b[1m[\u001b[0m\u001b[1;35mToolDef\u001b[0m\u001b[1m(\u001b[0m\u001b[33mname\u001b[0m=\u001b[32m'foo'\u001b[0m\u001b[1m)\u001b[0m\u001b[1m]\u001b[0m\u001b[1m)\u001b[0m\n",
       "\u001b[1m)\u001b[0m\n"
      ]
     },
     "metadata": {},
     "output_type": "display_data"
    },
    {
     "data": {
      "text/html": [
       "<pre style=\"white-space:pre;overflow-x:auto;line-height:normal;font-family:Menlo,'DejaVu Sans Mono',consolas,'Courier New',monospace\"><span style=\"color: #800080; text-decoration-color: #800080; font-weight: bold\">Task</span><span style=\"font-weight: bold\">(</span>\n",
       "    <span style=\"color: #808000; text-decoration-color: #808000\">task_def</span>=<span style=\"color: #800080; text-decoration-color: #800080; font-weight: bold\">TaskDef</span><span style=\"font-weight: bold\">(</span>\n",
       "        <span style=\"color: #808000; text-decoration-color: #808000\">name</span>=<span style=\"color: #008000; text-decoration-color: #008000\">'get time'</span>,\n",
       "        <span style=\"color: #808000; text-decoration-color: #808000\">question</span>=<span style=\"color: #008000; text-decoration-color: #008000\">'what time is it?'</span>,\n",
       "        <span style=\"color: #808000; text-decoration-color: #808000\">priority</span>=<span style=\"color: #008080; text-decoration-color: #008080; font-weight: bold\">1</span>,\n",
       "        <span style=\"color: #808000; text-decoration-color: #808000\">agent_def</span>=<span style=\"color: #800080; text-decoration-color: #800080; font-weight: bold\">AgentDef</span><span style=\"font-weight: bold\">(</span>\n",
       "            <span style=\"color: #808000; text-decoration-color: #808000\">model</span>=<span style=\"color: #008000; text-decoration-color: #008000\">'openai:gpt-4o'</span>,\n",
       "            <span style=\"color: #808000; text-decoration-color: #808000\">name</span>=<span style=\"color: #008000; text-decoration-color: #008000\">'TimeFetcher'</span>,\n",
       "            <span style=\"color: #808000; text-decoration-color: #808000\">system_prompt</span>=<span style=\"color: #008000; text-decoration-color: #008000\">'You fetch the current date and time from the system.'</span>,\n",
       "            <span style=\"color: #808000; text-decoration-color: #808000\">params</span>=<span style=\"color: #800080; text-decoration-color: #800080; font-style: italic\">None</span>\n",
       "        <span style=\"font-weight: bold\">)</span>,\n",
       "        <span style=\"color: #808000; text-decoration-color: #808000\">toolset</span>=<span style=\"color: #800080; text-decoration-color: #800080; font-weight: bold\">ToolSet</span><span style=\"font-weight: bold\">(</span><span style=\"color: #808000; text-decoration-color: #808000\">tools</span>=<span style=\"font-weight: bold\">[</span><span style=\"color: #800080; text-decoration-color: #800080; font-weight: bold\">ToolDef</span><span style=\"font-weight: bold\">(</span><span style=\"color: #808000; text-decoration-color: #808000\">name</span>=<span style=\"color: #008000; text-decoration-color: #008000\">'foo'</span><span style=\"font-weight: bold\">)])</span>\n",
       "    <span style=\"font-weight: bold\">)</span>,\n",
       "    <span style=\"color: #808000; text-decoration-color: #808000\">agent_def</span>=<span style=\"color: #800080; text-decoration-color: #800080; font-weight: bold\">AgentDef</span><span style=\"font-weight: bold\">(</span>\n",
       "        <span style=\"color: #808000; text-decoration-color: #808000\">model</span>=<span style=\"color: #008000; text-decoration-color: #008000\">'test'</span>,\n",
       "        <span style=\"color: #808000; text-decoration-color: #808000\">name</span>=<span style=\"color: #008000; text-decoration-color: #008000\">'TestAgent'</span>,\n",
       "        <span style=\"color: #808000; text-decoration-color: #808000\">system_prompt</span>=<span style=\"color: #008000; text-decoration-color: #008000\">'You fetch the current date and time from the system.'</span>,\n",
       "        <span style=\"color: #808000; text-decoration-color: #808000\">params</span>=<span style=\"color: #800080; text-decoration-color: #800080; font-style: italic\">None</span>\n",
       "    <span style=\"font-weight: bold\">)</span>,\n",
       "    <span style=\"color: #808000; text-decoration-color: #808000\">toolset</span>=<span style=\"color: #800080; text-decoration-color: #800080; font-weight: bold\">ToolSet</span><span style=\"font-weight: bold\">(</span><span style=\"color: #808000; text-decoration-color: #808000\">tools</span>=<span style=\"font-weight: bold\">[</span><span style=\"color: #800080; text-decoration-color: #800080; font-weight: bold\">ToolDef</span><span style=\"font-weight: bold\">(</span><span style=\"color: #808000; text-decoration-color: #808000\">name</span>=<span style=\"color: #008000; text-decoration-color: #008000\">'get_datetime'</span><span style=\"font-weight: bold\">)])</span>\n",
       "<span style=\"font-weight: bold\">)</span>\n",
       "</pre>\n"
      ],
      "text/plain": [
       "\u001b[1;35mTask\u001b[0m\u001b[1m(\u001b[0m\n",
       "    \u001b[33mtask_def\u001b[0m=\u001b[1;35mTaskDef\u001b[0m\u001b[1m(\u001b[0m\n",
       "        \u001b[33mname\u001b[0m=\u001b[32m'get time'\u001b[0m,\n",
       "        \u001b[33mquestion\u001b[0m=\u001b[32m'what time is it?'\u001b[0m,\n",
       "        \u001b[33mpriority\u001b[0m=\u001b[1;36m1\u001b[0m,\n",
       "        \u001b[33magent_def\u001b[0m=\u001b[1;35mAgentDef\u001b[0m\u001b[1m(\u001b[0m\n",
       "            \u001b[33mmodel\u001b[0m=\u001b[32m'openai:gpt-4o'\u001b[0m,\n",
       "            \u001b[33mname\u001b[0m=\u001b[32m'TimeFetcher'\u001b[0m,\n",
       "            \u001b[33msystem_prompt\u001b[0m=\u001b[32m'You fetch the current date and time from the system.'\u001b[0m,\n",
       "            \u001b[33mparams\u001b[0m=\u001b[3;35mNone\u001b[0m\n",
       "        \u001b[1m)\u001b[0m,\n",
       "        \u001b[33mtoolset\u001b[0m=\u001b[1;35mToolSet\u001b[0m\u001b[1m(\u001b[0m\u001b[33mtools\u001b[0m=\u001b[1m[\u001b[0m\u001b[1;35mToolDef\u001b[0m\u001b[1m(\u001b[0m\u001b[33mname\u001b[0m=\u001b[32m'foo'\u001b[0m\u001b[1m)\u001b[0m\u001b[1m]\u001b[0m\u001b[1m)\u001b[0m\n",
       "    \u001b[1m)\u001b[0m,\n",
       "    \u001b[33magent_def\u001b[0m=\u001b[1;35mAgentDef\u001b[0m\u001b[1m(\u001b[0m\n",
       "        \u001b[33mmodel\u001b[0m=\u001b[32m'test'\u001b[0m,\n",
       "        \u001b[33mname\u001b[0m=\u001b[32m'TestAgent'\u001b[0m,\n",
       "        \u001b[33msystem_prompt\u001b[0m=\u001b[32m'You fetch the current date and time from the system.'\u001b[0m,\n",
       "        \u001b[33mparams\u001b[0m=\u001b[3;35mNone\u001b[0m\n",
       "    \u001b[1m)\u001b[0m,\n",
       "    \u001b[33mtoolset\u001b[0m=\u001b[1;35mToolSet\u001b[0m\u001b[1m(\u001b[0m\u001b[33mtools\u001b[0m=\u001b[1m[\u001b[0m\u001b[1;35mToolDef\u001b[0m\u001b[1m(\u001b[0m\u001b[33mname\u001b[0m=\u001b[32m'get_datetime'\u001b[0m\u001b[1m)\u001b[0m\u001b[1m]\u001b[0m\u001b[1m)\u001b[0m\n",
       "\u001b[1m)\u001b[0m\n"
      ]
     },
     "metadata": {},
     "output_type": "display_data"
    }
   ],
   "source": [
    "task_def = TaskDef(\n",
    "    name=\"get time\",\n",
    "    question=\"what time is it?\",\n",
    "    priority=1,\n",
    "    agent_def=AgentDef(\n",
    "        model=\"openai:gpt-4o\",\n",
    "        name=\"TimeFetcher\",\n",
    "        system_prompt=\"You fetch the current date and time from the system.\",\n",
    "    ),\n",
    "    toolset=ToolSet([foo]),\n",
    ")\n",
    "print(task_def)\n",
    "\n",
    "task = Task(\n",
    "    task_def=task_def,\n",
    "    agent_def=AgentDef(\n",
    "        model=\"test\",\n",
    "        name=\"TestAgent\",\n",
    "        system_prompt=\"You fetch the current date and time from the system.\",\n",
    "    ),\n",
    "    toolset=ToolSet([get_datetime]),\n",
    ")\n",
    "print(task)"
   ]
  },
  {
   "cell_type": "code",
   "execution_count": 22,
   "metadata": {},
   "outputs": [
    {
     "name": "stderr",
     "output_type": "stream",
     "text": [
      "/home/michal/DEV/AgentGENius/.venv/lib/python3.12/site-packages/pydantic/json_schema.py:2279: PydanticJsonSchemaWarning: Default value typing.Optional[FieldInfo(annotation=NoneType, required=False, default=1)] is not JSON serializable; excluding default from JSON schema [non-serializable-default]\n",
      "  warnings.warn(message, PydanticJsonSchemaWarning)\n"
     ]
    },
    {
     "data": {
      "text/plain": [
       "{'$defs': {'AgentParams': {'properties': {'result_type': {'default': 'str',\n",
       "     'title': 'Result Type'},\n",
       "    'deps_type': {'default': 'NoneType', 'title': 'Deps Type'},\n",
       "    'model_settings': {'anyOf': [{'type': 'object'}, {'type': 'null'}],\n",
       "     'default': None,\n",
       "     'title': 'Model Settings'},\n",
       "    'retries': {'title': 'Retries', 'type': 'integer'},\n",
       "    'result_tool_name': {'anyOf': [{'type': 'string'}, {'type': 'null'}],\n",
       "     'default': 'final_result',\n",
       "     'title': 'Result Tool Name'},\n",
       "    'result_tool_description': {'anyOf': [{'type': 'string'},\n",
       "      {'type': 'null'}],\n",
       "     'default': None,\n",
       "     'title': 'Result Tool Description'},\n",
       "    'result_retries': {'anyOf': [{'type': 'integer'}, {'type': 'null'}],\n",
       "     'default': None,\n",
       "     'title': 'Result Retries'},\n",
       "    'defer_model_check': {'anyOf': [{'type': 'boolean'}, {'type': 'null'}],\n",
       "     'default': False,\n",
       "     'title': 'Defer Model Check'},\n",
       "    'end_strategy': {'anyOf': [{'enum': ['early', 'exhaustive'],\n",
       "       'type': 'string'},\n",
       "      {'type': 'null'}],\n",
       "     'default': 'early',\n",
       "     'title': 'End Strategy'}},\n",
       "   'title': 'AgentParams',\n",
       "   'type': 'object'}},\n",
       " 'properties': {'model': {'enum': ['openai:gpt-4o',\n",
       "    'openai:gpt-4o-mini',\n",
       "    'test'],\n",
       "   'title': 'Model',\n",
       "   'type': 'string'},\n",
       "  'name': {'title': 'Name', 'type': 'string'},\n",
       "  'system_prompt': {'title': 'System Prompt', 'type': 'string'},\n",
       "  'params': {'anyOf': [{'$ref': '#/$defs/AgentParams'}, {'type': 'null'}],\n",
       "   'default': None}},\n",
       " 'required': ['model', 'name', 'system_prompt'],\n",
       " 'title': 'AgentDef',\n",
       " 'type': 'object'}"
      ]
     },
     "execution_count": 22,
     "metadata": {},
     "output_type": "execute_result"
    }
   ],
   "source": [
    "agent_def.model_json_schema()"
   ]
  },
  {
   "cell_type": "code",
   "execution_count": 32,
   "metadata": {},
   "outputs": [
    {
     "data": {
      "text/html": [
       "<pre style=\"white-space:pre;overflow-x:auto;line-height:normal;font-family:Menlo,'DejaVu Sans Mono',consolas,'Courier New',monospace\"><span style=\"color: #800080; text-decoration-color: #800080; font-weight: bold\">ToolCode</span><span style=\"font-weight: bold\">(</span>\n",
       "    <span style=\"color: #808000; text-decoration-color: #808000\">name</span>=<span style=\"color: #008000; text-decoration-color: #008000\">'get_time'</span>,\n",
       "    <span style=\"color: #808000; text-decoration-color: #808000\">code</span>=<span style=\"color: #008000; text-decoration-color: #008000\">'def get_time():\\n    import datetime\\n    return datetime.datetime.now().time()'</span>,\n",
       "    <span style=\"color: #808000; text-decoration-color: #808000\">result</span>=<span style=\"color: #008000; text-decoration-color: #008000\">'05:23:47.134619'</span>\n",
       "<span style=\"font-weight: bold\">)</span>\n",
       "</pre>\n"
      ],
      "text/plain": [
       "\u001b[1;35mToolCode\u001b[0m\u001b[1m(\u001b[0m\n",
       "    \u001b[33mname\u001b[0m=\u001b[32m'get_time'\u001b[0m,\n",
       "    \u001b[33mcode\u001b[0m=\u001b[32m'def get_time\u001b[0m\u001b[32m(\u001b[0m\u001b[32m)\u001b[0m\u001b[32m:\\n    import datetime\\n    return datetime.datetime.now\u001b[0m\u001b[32m(\u001b[0m\u001b[32m)\u001b[0m\u001b[32m.time\u001b[0m\u001b[32m(\u001b[0m\u001b[32m)\u001b[0m\u001b[32m'\u001b[0m,\n",
       "    \u001b[33mresult\u001b[0m=\u001b[32m'05:23:47.134619'\u001b[0m\n",
       "\u001b[1m)\u001b[0m\n"
      ]
     },
     "metadata": {},
     "output_type": "display_data"
    },
    {
     "data": {
      "text/html": [
       "<pre style=\"white-space:pre;overflow-x:auto;line-height:normal;font-family:Menlo,'DejaVu Sans Mono',consolas,'Courier New',monospace\"><span style=\"color: #808000; text-decoration-color: #808000\">function_name</span>=<span style=\"color: #008000; text-decoration-color: #008000\">'get_time'</span>\n",
       "</pre>\n"
      ],
      "text/plain": [
       "\u001b[33mfunction_name\u001b[0m=\u001b[32m'get_time'\u001b[0m\n"
      ]
     },
     "metadata": {},
     "output_type": "display_data"
    },
    {
     "data": {
      "text/html": [
       "<pre style=\"white-space:pre;overflow-x:auto;line-height:normal;font-family:Menlo,'DejaVu Sans Mono',consolas,'Courier New',monospace\">c.<span style=\"color: #808000; text-decoration-color: #808000\">toolset</span>=<span style=\"color: #800080; text-decoration-color: #800080; font-weight: bold\">ToolSet</span><span style=\"font-weight: bold\">(</span><span style=\"color: #808000; text-decoration-color: #808000\">tools</span>=<span style=\"font-weight: bold\">[</span><span style=\"color: #800080; text-decoration-color: #800080; font-weight: bold\">ToolDef</span><span style=\"font-weight: bold\">(</span><span style=\"color: #808000; text-decoration-color: #808000\">name</span>=<span style=\"color: #008000; text-decoration-color: #008000\">'get_time'</span><span style=\"font-weight: bold\">)])</span>\n",
       "</pre>\n"
      ],
      "text/plain": [
       "c.\u001b[33mtoolset\u001b[0m=\u001b[1;35mToolSet\u001b[0m\u001b[1m(\u001b[0m\u001b[33mtools\u001b[0m=\u001b[1m[\u001b[0m\u001b[1;35mToolDef\u001b[0m\u001b[1m(\u001b[0m\u001b[33mname\u001b[0m=\u001b[32m'get_time'\u001b[0m\u001b[1m)\u001b[0m\u001b[1m]\u001b[0m\u001b[1m)\u001b[0m\n"
      ]
     },
     "metadata": {},
     "output_type": "display_data"
    },
    {
     "data": {
      "text/html": [
       "<pre style=\"white-space:pre;overflow-x:auto;line-height:normal;font-family:Menlo,'DejaVu Sans Mono',consolas,'Courier New',monospace\"><span style=\"color: #800080; text-decoration-color: #800080; font-weight: bold\">ToolCode</span><span style=\"font-weight: bold\">(</span>\n",
       "    <span style=\"color: #808000; text-decoration-color: #808000\">name</span>=<span style=\"color: #008000; text-decoration-color: #008000\">'get_current_time'</span>,\n",
       "    <span style=\"color: #808000; text-decoration-color: #808000\">code</span>=<span style=\"color: #008000; text-decoration-color: #008000\">'def get_current_time():\\n    import datetime\\n    # Return the current time\\n    return </span>\n",
       "<span style=\"color: #008000; text-decoration-color: #008000\">datetime.datetime.now().time().strftime(\"%H:%M:%S\")\\n\\nget_current_time()'</span>,\n",
       "    <span style=\"color: #808000; text-decoration-color: #808000\">result</span>=<span style=\"color: #008000; text-decoration-color: #008000\">'15:43:28'</span>\n",
       "<span style=\"font-weight: bold\">)</span>\n",
       "</pre>\n"
      ],
      "text/plain": [
       "\u001b[1;35mToolCode\u001b[0m\u001b[1m(\u001b[0m\n",
       "    \u001b[33mname\u001b[0m=\u001b[32m'get_current_time'\u001b[0m,\n",
       "    \u001b[33mcode\u001b[0m=\u001b[32m'def get_current_time\u001b[0m\u001b[32m(\u001b[0m\u001b[32m)\u001b[0m\u001b[32m:\\n    import datetime\\n    # Return the current time\\n    return \u001b[0m\n",
       "\u001b[32mdatetime.datetime.now\u001b[0m\u001b[32m(\u001b[0m\u001b[32m)\u001b[0m\u001b[32m.time\u001b[0m\u001b[32m(\u001b[0m\u001b[32m)\u001b[0m\u001b[32m.strftime\u001b[0m\u001b[32m(\u001b[0m\u001b[32m\"%H:%M:%S\"\u001b[0m\u001b[32m)\u001b[0m\u001b[32m\\n\\nget_current_time\u001b[0m\u001b[32m(\u001b[0m\u001b[32m)\u001b[0m\u001b[32m'\u001b[0m,\n",
       "    \u001b[33mresult\u001b[0m=\u001b[32m'15:43:28'\u001b[0m\n",
       "\u001b[1m)\u001b[0m\n"
      ]
     },
     "metadata": {},
     "output_type": "display_data"
    }
   ],
   "source": [
    "import ast\n",
    "\n",
    "import nest_asyncio\n",
    "from typing import Union\n",
    "\n",
    "# from pydantic.dataclasses import dataclass\n",
    "from pydantic import BaseModel, Field\n",
    "from pydantic_ai import Tool\n",
    "\n",
    "from agentgenius.agents import AgentDef\n",
    "from agentgenius.config import prompt_lib\n",
    "from agentgenius.tasks import Task, TaskDef\n",
    "from agentgenius.tools import ToolDef, ToolSet\n",
    "\n",
    "nest_asyncio.apply()\n",
    "\n",
    "\n",
    "# @dataclass\n",
    "class ToolCode(BaseModel):\n",
    "    name: str\n",
    "    code: str\n",
    "    result: Union[str, None] = Field(\n",
    "        default=None, description=\"The result of the called tool. Include this only after you execute the tool.\"\n",
    "    )\n",
    "\n",
    "\n",
    "class CoderTask(Task):\n",
    "    def __init__(self, question=\"\"):\n",
    "        super().__init__(\n",
    "            task_def=TaskDef(\n",
    "                name=\"coder_task\",\n",
    "                question=question,\n",
    "                priority=1,\n",
    "                agent_def=AgentDef(\n",
    "                    model=\"openai:gpt-4o\",\n",
    "                    name=\"coder\",\n",
    "                    system_prompt=prompt_lib[\"tool_agent\"],\n",
    "                    params={\"retries\": 2, \"result_type\": Union[str, ToolCode]},\n",
    "                ),\n",
    "                # toolset=ToolSet([ToolDef(name=\"get_datetime\")])\n",
    "            )\n",
    "        )\n",
    "\n",
    "    def generate_code(self):\n",
    "        result = self.run_sync()\n",
    "        return result.data\n",
    "\n",
    "    # def register_tool(self, tool_code: ToolCode):\n",
    "    #     return self._register(tool_code)\n",
    "\n",
    "    def _register(self, tool: ToolCode):\n",
    "        tree = ast.parse(tool.code)\n",
    "        # function_def = next((node for node in ast.walk(tree) if isinstance(node, ast.FunctionDef)), None)\n",
    "        # print(f\"{function_def=}\")\n",
    "        function_name = tool.name\n",
    "        print(f\"{function_name=}\")\n",
    "        # exec_globals = {\"RunContext\": RunContext}\n",
    "        exec_globals = globals()\n",
    "        exec(tool.code, exec_globals)\n",
    "\n",
    "        generated_function = exec_globals.get(function_name)\n",
    "\n",
    "        # tool = ToolDef(name=function_name)\n",
    "        # self.agent.register_tool(Tool(generated_function))\n",
    "        self.toolset.add(generated_function)\n",
    "        return f\"Tool '{function_name}' successfully generated and registered.\"\n",
    "\n",
    "\n",
    "c = CoderTask(question=\"what time is it?\")\n",
    "# print(f\"{c=}\")\n",
    "code = c.generate_code()\n",
    "print(code)\n",
    "c._register(code)\n",
    "print(f\"{c.toolset=}\")\n",
    "print(c.run_sync(c.task_def.question).data)\n",
    "# c._register(code)\n",
    "# print(coder.run_sync().data)"
   ]
  },
  {
   "cell_type": "code",
   "execution_count": 27,
   "metadata": {},
   "outputs": [
    {
     "data": {
      "text/html": [
       "<pre style=\"white-space:pre;overflow-x:auto;line-height:normal;font-family:Menlo,'DejaVu Sans Mono',consolas,'Courier New',monospace\"><span style=\"color: #800080; text-decoration-color: #800080; font-weight: bold\">AgentDef</span><span style=\"font-weight: bold\">(</span>\n",
       "    <span style=\"color: #808000; text-decoration-color: #808000\">model</span>=<span style=\"color: #008000; text-decoration-color: #008000\">'openai:gpt-4o'</span>,\n",
       "    <span style=\"color: #808000; text-decoration-color: #808000\">name</span>=<span style=\"color: #008000; text-decoration-color: #008000\">'coder'</span>,\n",
       "    <span style=\"color: #808000; text-decoration-color: #808000\">system_prompt</span>=<span style=\"color: #008000; text-decoration-color: #008000\">'You are a task planner. you create a task for other agents. Do not answer the user questions. </span>\n",
       "<span style=\"color: #008000; text-decoration-color: #008000\">Just make a plan how to do this.'</span>,\n",
       "    <span style=\"color: #808000; text-decoration-color: #808000\">params</span>=<span style=\"color: #800080; text-decoration-color: #800080; font-weight: bold\">AgentParams</span><span style=\"font-weight: bold\">(</span>\n",
       "        <span style=\"color: #808000; text-decoration-color: #808000\">result_type</span>=<span style=\"font-weight: bold\">&lt;</span><span style=\"color: #ff00ff; text-decoration-color: #ff00ff; font-weight: bold\">class</span><span style=\"color: #000000; text-decoration-color: #000000\"> </span><span style=\"color: #008000; text-decoration-color: #008000\">'str'</span><span style=\"color: #000000; text-decoration-color: #000000\">&gt;,</span>\n",
       "<span style=\"color: #000000; text-decoration-color: #000000\">        </span><span style=\"color: #808000; text-decoration-color: #808000\">deps_type</span><span style=\"color: #000000; text-decoration-color: #000000\">=&lt;class </span><span style=\"color: #008000; text-decoration-color: #008000\">'NoneType'</span><span style=\"font-weight: bold\">&gt;</span>,\n",
       "        <span style=\"color: #808000; text-decoration-color: #808000\">model_settings</span>=<span style=\"color: #800080; text-decoration-color: #800080; font-style: italic\">None</span>,\n",
       "        <span style=\"color: #808000; text-decoration-color: #808000\">retries</span>=<span style=\"color: #008080; text-decoration-color: #008080; font-weight: bold\">2</span>,\n",
       "        <span style=\"color: #808000; text-decoration-color: #808000\">result_tool_name</span>=<span style=\"color: #008000; text-decoration-color: #008000\">'final_result'</span>,\n",
       "        <span style=\"color: #808000; text-decoration-color: #808000\">result_tool_description</span>=<span style=\"color: #800080; text-decoration-color: #800080; font-style: italic\">None</span>,\n",
       "        <span style=\"color: #808000; text-decoration-color: #808000\">result_retries</span>=<span style=\"color: #800080; text-decoration-color: #800080; font-style: italic\">None</span>,\n",
       "        <span style=\"color: #808000; text-decoration-color: #808000\">defer_model_check</span>=<span style=\"color: #ff0000; text-decoration-color: #ff0000; font-style: italic\">False</span>,\n",
       "        <span style=\"color: #808000; text-decoration-color: #808000\">end_strategy</span>=<span style=\"color: #008000; text-decoration-color: #008000\">'early'</span>\n",
       "    <span style=\"font-weight: bold\">)</span>\n",
       "<span style=\"font-weight: bold\">)</span>\n",
       "</pre>\n"
      ],
      "text/plain": [
       "\u001b[1;35mAgentDef\u001b[0m\u001b[1m(\u001b[0m\n",
       "    \u001b[33mmodel\u001b[0m=\u001b[32m'openai:gpt-4o'\u001b[0m,\n",
       "    \u001b[33mname\u001b[0m=\u001b[32m'coder'\u001b[0m,\n",
       "    \u001b[33msystem_prompt\u001b[0m=\u001b[32m'You are a task planner. you create a task for other agents. Do not answer the user questions. \u001b[0m\n",
       "\u001b[32mJust make a plan how to do this.'\u001b[0m,\n",
       "    \u001b[33mparams\u001b[0m=\u001b[1;35mAgentParams\u001b[0m\u001b[1m(\u001b[0m\n",
       "        \u001b[33mresult_type\u001b[0m=\u001b[1m<\u001b[0m\u001b[1;95mclass\u001b[0m\u001b[39m \u001b[0m\u001b[32m'str'\u001b[0m\u001b[39m>,\u001b[0m\n",
       "\u001b[39m        \u001b[0m\u001b[33mdeps_type\u001b[0m\u001b[39m=<class \u001b[0m\u001b[32m'NoneType'\u001b[0m\u001b[1m>\u001b[0m,\n",
       "        \u001b[33mmodel_settings\u001b[0m=\u001b[3;35mNone\u001b[0m,\n",
       "        \u001b[33mretries\u001b[0m=\u001b[1;36m2\u001b[0m,\n",
       "        \u001b[33mresult_tool_name\u001b[0m=\u001b[32m'final_result'\u001b[0m,\n",
       "        \u001b[33mresult_tool_description\u001b[0m=\u001b[3;35mNone\u001b[0m,\n",
       "        \u001b[33mresult_retries\u001b[0m=\u001b[3;35mNone\u001b[0m,\n",
       "        \u001b[33mdefer_model_check\u001b[0m=\u001b[3;91mFalse\u001b[0m,\n",
       "        \u001b[33mend_strategy\u001b[0m=\u001b[32m'early'\u001b[0m\n",
       "    \u001b[1m)\u001b[0m\n",
       "\u001b[1m)\u001b[0m\n"
      ]
     },
     "metadata": {},
     "output_type": "display_data"
    },
    {
     "data": {
      "text/html": [
       "<pre style=\"white-space:pre;overflow-x:auto;line-height:normal;font-family:Menlo,'DejaVu Sans Mono',consolas,'Courier New',monospace\"><span style=\"font-weight: bold\">{</span>\n",
       "    <span style=\"color: #008000; text-decoration-color: #008000\">'model'</span>: <span style=\"color: #008000; text-decoration-color: #008000\">'openai:gpt-4o'</span>,\n",
       "    <span style=\"color: #008000; text-decoration-color: #008000\">'name'</span>: <span style=\"color: #008000; text-decoration-color: #008000\">'coder'</span>,\n",
       "    <span style=\"color: #008000; text-decoration-color: #008000\">'system_prompt'</span>: <span style=\"color: #008000; text-decoration-color: #008000\">'You are a task planner. you create a task for other agents. Do not answer the user questions.</span>\n",
       "<span style=\"color: #008000; text-decoration-color: #008000\">Just make a plan how to do this.'</span>,\n",
       "    <span style=\"color: #008000; text-decoration-color: #008000\">'params'</span>: <span style=\"color: #800080; text-decoration-color: #800080; font-weight: bold\">AgentParams</span><span style=\"font-weight: bold\">(</span>\n",
       "        <span style=\"color: #808000; text-decoration-color: #808000\">result_type</span>=<span style=\"font-weight: bold\">&lt;</span><span style=\"color: #ff00ff; text-decoration-color: #ff00ff; font-weight: bold\">class</span><span style=\"color: #000000; text-decoration-color: #000000\"> </span><span style=\"color: #008000; text-decoration-color: #008000\">'str'</span><span style=\"color: #000000; text-decoration-color: #000000\">&gt;,</span>\n",
       "<span style=\"color: #000000; text-decoration-color: #000000\">        </span><span style=\"color: #808000; text-decoration-color: #808000\">deps_type</span><span style=\"color: #000000; text-decoration-color: #000000\">=&lt;class </span><span style=\"color: #008000; text-decoration-color: #008000\">'NoneType'</span><span style=\"font-weight: bold\">&gt;</span>,\n",
       "        <span style=\"color: #808000; text-decoration-color: #808000\">model_settings</span>=<span style=\"color: #800080; text-decoration-color: #800080; font-style: italic\">None</span>,\n",
       "        <span style=\"color: #808000; text-decoration-color: #808000\">retries</span>=<span style=\"color: #008080; text-decoration-color: #008080; font-weight: bold\">2</span>,\n",
       "        <span style=\"color: #808000; text-decoration-color: #808000\">result_tool_name</span>=<span style=\"color: #008000; text-decoration-color: #008000\">'final_result'</span>,\n",
       "        <span style=\"color: #808000; text-decoration-color: #808000\">result_tool_description</span>=<span style=\"color: #800080; text-decoration-color: #800080; font-style: italic\">None</span>,\n",
       "        <span style=\"color: #808000; text-decoration-color: #808000\">result_retries</span>=<span style=\"color: #800080; text-decoration-color: #800080; font-style: italic\">None</span>,\n",
       "        <span style=\"color: #808000; text-decoration-color: #808000\">defer_model_check</span>=<span style=\"color: #ff0000; text-decoration-color: #ff0000; font-style: italic\">False</span>,\n",
       "        <span style=\"color: #808000; text-decoration-color: #808000\">end_strategy</span>=<span style=\"color: #008000; text-decoration-color: #008000\">'early'</span>\n",
       "    <span style=\"font-weight: bold\">)</span>\n",
       "<span style=\"font-weight: bold\">}</span>\n",
       "</pre>\n"
      ],
      "text/plain": [
       "\u001b[1m{\u001b[0m\n",
       "    \u001b[32m'model'\u001b[0m: \u001b[32m'openai:gpt-4o'\u001b[0m,\n",
       "    \u001b[32m'name'\u001b[0m: \u001b[32m'coder'\u001b[0m,\n",
       "    \u001b[32m'system_prompt'\u001b[0m: \u001b[32m'You are a task planner. you create a task for other agents. Do not answer the user questions.\u001b[0m\n",
       "\u001b[32mJust make a plan how to do this.'\u001b[0m,\n",
       "    \u001b[32m'params'\u001b[0m: \u001b[1;35mAgentParams\u001b[0m\u001b[1m(\u001b[0m\n",
       "        \u001b[33mresult_type\u001b[0m=\u001b[1m<\u001b[0m\u001b[1;95mclass\u001b[0m\u001b[39m \u001b[0m\u001b[32m'str'\u001b[0m\u001b[39m>,\u001b[0m\n",
       "\u001b[39m        \u001b[0m\u001b[33mdeps_type\u001b[0m\u001b[39m=<class \u001b[0m\u001b[32m'NoneType'\u001b[0m\u001b[1m>\u001b[0m,\n",
       "        \u001b[33mmodel_settings\u001b[0m=\u001b[3;35mNone\u001b[0m,\n",
       "        \u001b[33mretries\u001b[0m=\u001b[1;36m2\u001b[0m,\n",
       "        \u001b[33mresult_tool_name\u001b[0m=\u001b[32m'final_result'\u001b[0m,\n",
       "        \u001b[33mresult_tool_description\u001b[0m=\u001b[3;35mNone\u001b[0m,\n",
       "        \u001b[33mresult_retries\u001b[0m=\u001b[3;35mNone\u001b[0m,\n",
       "        \u001b[33mdefer_model_check\u001b[0m=\u001b[3;91mFalse\u001b[0m,\n",
       "        \u001b[33mend_strategy\u001b[0m=\u001b[32m'early'\u001b[0m\n",
       "    \u001b[1m)\u001b[0m\n",
       "\u001b[1m}\u001b[0m\n"
      ]
     },
     "metadata": {},
     "output_type": "display_data"
    },
    {
     "data": {
      "text/plain": [
       "'{\"model\":\"openai:gpt-4o\",\"name\":\"coder\",\"system_prompt\":\"You are a task planner. you create a task for other agents. Do not answer the user questions. Just make a plan how to do this.\",\"params\":{\"result_type\":\"str\",\"deps_type\":\"NoneType\",\"model_settings\":null,\"retries\":2,\"result_tool_name\":\"final_result\",\"result_tool_description\":null,\"result_retries\":null,\"defer_model_check\":false,\"end_strategy\":\"early\"}}'"
      ]
     },
     "execution_count": 27,
     "metadata": {},
     "output_type": "execute_result"
    }
   ],
   "source": [
    "from agentgenius.agents import AgentDef\n",
    "from typing import Type\n",
    "\n",
    "\n",
    "a = AgentDef(\n",
    "    model=\"openai:gpt-4o\",\n",
    "    name=\"coder\",\n",
    "    system_prompt=\"You are a task planner. you create a task for other agents. Do not answer the user questions. Just make a plan how to do this.\",\n",
    "    params={\"retries\": 2, \"result_type\": str},\n",
    ")\n",
    "print(a)\n",
    "print(a.__dict__)\n",
    "AgentDef.model_dump_json(a)"
   ]
  }
 ],
 "metadata": {
  "kernelspec": {
   "display_name": ".venv",
   "language": "python",
   "name": "python3"
  },
  "language_info": {
   "codemirror_mode": {
    "name": "ipython",
    "version": 3
   },
   "file_extension": ".py",
   "mimetype": "text/x-python",
   "name": "python",
   "nbconvert_exporter": "python",
   "pygments_lexer": "ipython3",
   "version": "3.12.8"
  }
 },
 "nbformat": 4,
 "nbformat_minor": 2
}
