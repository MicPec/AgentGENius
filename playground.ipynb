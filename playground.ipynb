{
 "cells": [
  {
   "cell_type": "markdown",
   "metadata": {},
   "source": [
    "# PLAYGROUND for AgentGENius"
   ]
  },
  {
   "cell_type": "code",
   "execution_count": null,
   "metadata": {},
   "outputs": [],
   "source": [
    "import logfire\n",
    "import nest_asyncio\n",
    "from dotenv import load_dotenv\n",
    "from rich import print\n",
    "\n",
    "from agentgenius import AgentDef, AgentParams, Task, TaskDef\n",
    "from agentgenius.builtin_tools import get_datetime, get_location_by_ip, get_user_ip\n",
    "from agentgenius.tasks import Task, TaskDef\n",
    "from agentgenius.tools import ToolDef, ToolSet\n",
    "from agentgenius.utils import TypeAdapterMixin\n",
    "\n",
    "nest_asyncio.apply()\n",
    "load_dotenv()"
   ]
  },
  {
   "cell_type": "code",
   "execution_count": null,
   "metadata": {},
   "outputs": [],
   "source": [
    "agent_def = AgentDef(\n",
    "    model=\"openai:gpt-4o-mini\",\n",
    "    name=\"assistant\",\n",
    "    system_prompt=\"You are a helpful assistant.\",\n",
    "    params=AgentParams(\n",
    "        result_type=TaskDef,\n",
    "        retries=2,\n",
    "    ),\n",
    ")\n",
    "\n",
    "# json_data = agent_def.model_dump_json()\n",
    "# print(json_data)\n",
    "# agent_def = AgentDef.model_validate_json(json_data)\n",
    "# print(agent_def)\n",
    "# print(agent_def.model_json_schema())\n",
    "print(agent_def.params.__dict__)"
   ]
  },
  {
   "cell_type": "code",
   "execution_count": null,
   "metadata": {},
   "outputs": [],
   "source": [
    "def foo():\n",
    "    return \"bar\"\n",
    "\n",
    "\n",
    "tool = ToolDef(\"foo\")\n",
    "\n",
    "json_data = tool.model_dump_json()\n",
    "print(json_data)\n",
    "tool = ToolDef.model_validate_json(json_data)\n",
    "print(tool)"
   ]
  },
  {
   "cell_type": "code",
   "execution_count": null,
   "metadata": {},
   "outputs": [],
   "source": [
    "toolset = ToolSet([\"foo\"])\n",
    "json_data = toolset.model_dump_json()\n",
    "print(json_data)\n",
    "toolset = ToolSet.model_validate_json(json_data)\n",
    "print(toolset)"
   ]
  },
  {
   "cell_type": "code",
   "execution_count": null,
   "metadata": {},
   "outputs": [],
   "source": [
    "task_def = TaskDef(\n",
    "    name=\"get time\",\n",
    "    question=\"what time is it?\",\n",
    "    priority=1,\n",
    "    toolset=ToolSet(\n",
    "        [get_datetime, foo],\n",
    "    ),\n",
    ")\n",
    "\n",
    "json_data = task_def.model_dump_json(exclude_unset=True, exclude_defaults=True)\n",
    "print(json_data)\n",
    "task_def = TaskDef.model_validate_json(json_data)\n",
    "print(task_def)"
   ]
  },
  {
   "cell_type": "code",
   "execution_count": null,
   "metadata": {},
   "outputs": [],
   "source": [
    "agent_def.model_json_schema()"
   ]
  },
  {
   "cell_type": "code",
   "execution_count": null,
   "metadata": {},
   "outputs": [],
   "source": [
    "from agentgenius.config import prompt_lib\n",
    "from pydantic.dataclasses import dataclass\n",
    "from pydantic_ai import Tool\n",
    "import ast\n",
    "from agentgenius.tools import ToolDef\n",
    "\n",
    "\n",
    "@dataclass\n",
    "class ToolCode:\n",
    "    name: str\n",
    "    code: str\n",
    "\n",
    "\n",
    "class CoderTask(TaskDef):\n",
    "    def __init__(self, question=\"\"):\n",
    "        self.name = \"coder\"\n",
    "        self.question = \"write a python function give answer to my question: \" + question\n",
    "        self.priority = 1\n",
    "        self.agent = AgentDef(\n",
    "            model=\"openai:gpt-4o\",\n",
    "            name=\"coder\",\n",
    "            system_prompt=prompt_lib[\"tool_agent\"],\n",
    "            params={\n",
    "                \"retries\": 2,\n",
    "                \"result_type\": ToolCode,\n",
    "            },\n",
    "        )\n",
    "        # self.toolset = ToolSet([])\n",
    "\n",
    "    def _register(self, tool: ToolCode):\n",
    "        tree = ast.parse(tool.code)\n",
    "        function_def = next((node for node in ast.walk(tree) if isinstance(node, ast.FunctionDef)), None)\n",
    "\n",
    "        function_name = tool.name\n",
    "\n",
    "        # exec_globals = {\"RunContext\": RunContext}\n",
    "        exec_globals = globals()\n",
    "        exec(tool.code, exec_globals)\n",
    "\n",
    "        generated_function = exec_globals.get(function_name)\n",
    "\n",
    "        self.agent.register_tool(Tool(generated_function))\n",
    "\n",
    "        return f\"Tool '{function_name}' successfully generated and registered.\"\n",
    "\n",
    "\n",
    "c = CoderTask(\"what time is it?\")\n",
    "coder = Task(c)\n",
    "code = coder.run_sync().data\n",
    "c._register(code)\n",
    "# print(coder.run_sync().data)"
   ]
  },
  {
   "cell_type": "code",
   "execution_count": null,
   "metadata": {},
   "outputs": [],
   "source": [
    "import ast\n",
    "import json\n",
    "\n",
    "from pydantic import TypeAdapter\n",
    "from pydantic.dataclasses import dataclass\n",
    "from pydantic_ai import Tool\n",
    "\n",
    "from agentgenius.config import prompt_lib\n",
    "from agentgenius.tools import ToolDef\n",
    "from agentgenius.agents import AgentDef\n",
    "from agentgenius.tasks import Task, TaskDef\n",
    "from agentgenius.tools import ToolSet\n",
    "\n",
    "\n",
    "def get_datetime():\n",
    "    return \"2023-01-01 00:00:00\"\n",
    "\n",
    "\n",
    "class TaskAgent(TaskDef):\n",
    "    def __init__(self, question=\"\"):\n",
    "        self.name = \"task_agent\"\n",
    "        self.question = question\n",
    "        self.priority = 1\n",
    "        self.agent = AgentDef(\n",
    "            model=\"openai:gpt-4o\",\n",
    "            name=\"coder\",\n",
    "            system_prompt=\"\"\"You are a task planner. you create a task for other agents. \n",
    "            Do not answer the user questions. Just make a plan how to do this.\"\"\",\n",
    "            params={\"retries\": 2, \"result_type\": Task},\n",
    "        )\n",
    "\n",
    "\n",
    "test_task = TaskDef(\n",
    "    name=\"get_datetime\",\n",
    "    question=\"Retrieve the current date and time from the system.\",\n",
    "    priority=1,\n",
    "    agent=AgentDef(\n",
    "        model=\"openai:gpt-4o\", name=\"TimeFetcher\", system_prompt=\"You fetch the current date and time from the system.\"\n",
    "    ),\n",
    "    toolset=ToolSet([get_datetime]),\n",
    ")\n",
    "\n",
    "\n",
    "# def model_dump_json(cls, instance: object):\n",
    "#     adapter = TypeAdapter(cls)\n",
    "#     return adapter.dump_json(instance, indent=2, by_alias=True, exclude_unset=True, serialize_as_any=True)\n",
    "\n",
    "\n",
    "task_agent = Task(TaskAgent(test_task))\n",
    "\n",
    "\n",
    "print(task_agent.run_sync().data)\n",
    "# json.dumps(asdict(task_agent))"
   ]
  },
  {
   "cell_type": "code",
   "execution_count": null,
   "metadata": {},
   "outputs": [],
   "source": [
    "print(TypeAdapter(Task).validate_json(task_agent))"
   ]
  },
  {
   "cell_type": "code",
   "execution_count": 10,
   "metadata": {},
   "outputs": [],
   "source": [
    "from pydantic import TypeAdapter\n",
    "from pydantic.dataclasses import dataclass"
   ]
  },
  {
   "cell_type": "code",
   "execution_count": null,
   "metadata": {},
   "outputs": [],
   "source": [
    "from agentgenius.agents import AgentDef\n",
    "from typing import Type\n",
    "\n",
    "\n",
    "a = AgentDef(\n",
    "    model=\"openai:gpt-4o\",\n",
    "    name=\"coder\",\n",
    "    system_prompt=\"You are a task planner. you create a task for other agents. Do not answer the user questions. Just make a plan how to do this.\",\n",
    "    params={\"retries\": 2, \"result_type\": str},\n",
    ")\n",
    "print(a)\n",
    "print(a.__dict__)\n",
    "AgentDef.model_dump_json(a)"
   ]
  }
 ],
 "metadata": {
  "kernelspec": {
   "display_name": ".venv",
   "language": "python",
   "name": "python3"
  },
  "language_info": {
   "codemirror_mode": {
    "name": "ipython",
    "version": 3
   },
   "file_extension": ".py",
   "mimetype": "text/x-python",
   "name": "python",
   "nbconvert_exporter": "python",
   "pygments_lexer": "ipython3",
   "version": "3.12.8"
  }
 },
 "nbformat": 4,
 "nbformat_minor": 2
}
