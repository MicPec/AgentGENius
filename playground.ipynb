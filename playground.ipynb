{
 "cells": [
  {
   "cell_type": "markdown",
   "metadata": {},
   "source": [
    "# PLAYGROUND for AgentGENius"
   ]
  },
  {
   "cell_type": "code",
   "execution_count": 1,
   "metadata": {},
   "outputs": [
    {
     "data": {
      "text/plain": [
       "True"
      ]
     },
     "execution_count": 1,
     "metadata": {},
     "output_type": "execute_result"
    }
   ],
   "source": [
    "from datetime import date\n",
    "\n",
    "import nest_asyncio\n",
    "from dotenv import load_dotenv\n",
    "from pydantic_ai import RunContext, Tool\n",
    "\n",
    "from agentgenius.agents import AgentStore, BaseAgent\n",
    "from agentgenius.config import config\n",
    "from agentgenius.main import AgentGENius\n",
    "from agentgenius.tools import ToolSet\n",
    "\n",
    "nest_asyncio.apply()\n",
    "load_dotenv()"
   ]
  },
  {
   "cell_type": "markdown",
   "metadata": {},
   "source": [
    "## Testing AgentStore "
   ]
  },
  {
   "cell_type": "code",
   "execution_count": 2,
   "metadata": {},
   "outputs": [
    {
     "name": "stdout",
     "output_type": "stream",
     "text": [
      "ROT13_encoder\n",
      "In ROT13, \"hello world\" is encoded as \"uryyb jbeyq\".\n",
      "ToolSet(['rot13_encode', 'ask_agent'])\n"
     ]
    }
   ],
   "source": [
    "ags = AgentStore(config.agents_path).load_agents()\n",
    "# ags.add(AgentGENius.from_file(config.agents_path / \"assistant.json\"))\n",
    "a = ags.list()[0]\n",
    "print(a)\n",
    "if agent := ags[a]:\n",
    "    print(agent.run_sync(\"write hello world\").data)\n",
    "    print(agent.toolset)"
   ]
  },
  {
   "cell_type": "markdown",
   "metadata": {},
   "source": [
    "## Using tools"
   ]
  },
  {
   "cell_type": "code",
   "execution_count": 3,
   "metadata": {},
   "outputs": [
    {
     "data": {
      "text/plain": [
       "True"
      ]
     },
     "execution_count": 3,
     "metadata": {},
     "output_type": "execute_result"
    }
   ],
   "source": [
    "def encode_rot13(input_string):\n",
    "    \"\"\"Encode a string using ROT13.\"\"\"\n",
    "    import codecs\n",
    "\n",
    "    return codecs.encode(input_string, \"rot_13\")\n",
    "\n",
    "\n",
    "# check signature if function is plain\n",
    "# for DEV purposes only\n",
    "a = encode_rot13\n",
    "import inspect\n",
    "\n",
    "signature = inspect.signature(a)\n",
    "signature.parameters.keys()\n",
    "not any(\"RunContext\" in str(signature.parameters[t].annotation) for t in signature.parameters.keys())"
   ]
  },
  {
   "cell_type": "code",
   "execution_count": 4,
   "metadata": {},
   "outputs": [
    {
     "name": "stdout",
     "output_type": "stream",
     "text": [
      "agent.toolset=ToolSet(['ask_agent', 'encode_rot13'])\n",
      "tools='{\"toolset\":[\"ask_agent\",\"encode_rot13\"]}'\n",
      "agent.toolset=ToolSet(['encode_rot13'])\n",
      "Pvcuref jrnir gurve pbqr,  \n",
      "Frpergf uvqqra va gur yvtug,  \n",
      "Jbeqf qnapr va funqbjf. \n",
      "\n",
      "Ciphers weave their code,  \n",
      "Secrets hidden in the light,  \n",
      "Words dance in shadows. \n",
      "\n"
     ]
    }
   ],
   "source": [
    "agent = AgentGENius(name=\"rot13encoder\", model=\"openai:gpt-4o-mini\", system_prompt=\"you write everything in rot13\")\n",
    "\n",
    "# add tool to toolset manually\n",
    "agent.toolset.add(encode_rot13)\n",
    "\n",
    "\n",
    "# or use decorator\n",
    "@agent.tool_plain\n",
    "def ask_user_tool(question: str) -> str:\n",
    "    \"\"\"Ask the user a question\"\"\"\n",
    "    return input(question + \" \")\n",
    "\n",
    "\n",
    "print(f\"{agent.toolset=}\")\n",
    "tools = agent.toolset.to_json()\n",
    "print(f\"{tools=}\")\n",
    "agent.toolset = ToolSet.from_json(tools, namespace=globals())\n",
    "print(f\"{agent.toolset=}\")\n",
    "\n",
    "result = agent.run_sync(\"tell me a haiku about ciphers\")\n",
    "print(result.data, \"\\n\")\n",
    "print(encode_rot13(result.data), \"\\n\")"
   ]
  },
  {
   "cell_type": "markdown",
   "metadata": {},
   "source": [
    "## Testing ToolSet"
   ]
  },
  {
   "cell_type": "code",
   "execution_count": 5,
   "metadata": {},
   "outputs": [],
   "source": [
    "def test_tool(value: int) -> str:\n",
    "    return str(value)\n",
    "\n",
    "\n",
    "tools = ToolSet(test_tool)\n",
    "\n",
    "tool = tools.get(\"test_tool\")\n",
    "assert tool(10) == \"10\"\n",
    "\n",
    "assert \"test_tool2\" not in tools\n",
    "assert \"test_tool\" in tools\n",
    "assert test_tool in tools\n",
    "\n",
    "tools.remove(\"test_tool\")\n",
    "tool = tools.get(\"test_tool\")\n",
    "assert tool is None"
   ]
  },
  {
   "cell_type": "markdown",
   "metadata": {},
   "source": [
    "## Testing Serialization"
   ]
  },
  {
   "cell_type": "code",
   "execution_count": 6,
   "metadata": {},
   "outputs": [
    {
     "name": "stdout",
     "output_type": "stream",
     "text": [
      "agent.to_json()='{\"name\":\"assistant\",\"model\":\"openai:gpt-4o-mini\",\"system_prompt\":\"You are a helpful assistant.\",\"toolset\":[\"get_datetime\",\"ask_agent\"]}'\n",
      "agent2.to_json()='{\"name\":\"assistant\",\"model\":\"openai:gpt-4o-mini\",\"system_prompt\":\"You are a helpful assistant.\",\"toolset\":[\"get_datetime\",\"ask_agent\"]}'\n",
      "The current date is 2025-01-03 08:32:12.\n",
      "The current date is January 3, 2025.\n"
     ]
    }
   ],
   "source": [
    "def get_datetime(format: str = \"%Y-%m-%d %H:%M:%S\") -> str:\n",
    "    \"\"\"returns the current datetime as a string in the specified python format\"\"\"\n",
    "    import datetime\n",
    "\n",
    "    return datetime.datetime.now().strftime(format)\n",
    "\n",
    "\n",
    "tools = ToolSet(get_datetime)\n",
    "\n",
    "agent = AgentGENius(\n",
    "    name=\"assistant\", model=\"openai:gpt-4o-mini\", system_prompt=\"You are a helpful assistant.\", toolset=tools\n",
    ")\n",
    "\n",
    "\n",
    "# the date will be injected into the system prompt, but only for the first agent\n",
    "# so it will not use a tool\n",
    "@agent.system_prompt\n",
    "def inject_date() -> str:\n",
    "    return f\"The date is {get_datetime()}.\"\n",
    "\n",
    "\n",
    "print(f\"{agent.to_json()=}\")\n",
    "\n",
    "# we cannot inject the date into the second agents system prompt, so it will use a tool\n",
    "j = agent.to_json()\n",
    "agent2 = BaseAgent.from_json(j, globals())\n",
    "\n",
    "\n",
    "print(f\"{agent2.to_json()=}\")\n",
    "\n",
    "print(agent.run_sync(\"What is the current date?\").data)\n",
    "print(agent2.run_sync(\"What is the current date?\").data)"
   ]
  },
  {
   "cell_type": "code",
   "execution_count": 1,
   "metadata": {},
   "outputs": [
    {
     "name": "stdout",
     "output_type": "stream",
     "text": [
      "get_all_tools_tool()=['get_all_agents_tool', 'get_all_tools_tool', 'get_datetime_tool', 'get_ram_stats', 'rot13_encode', 'get_username', 'get_user_ip']\n",
      "get_all_agents_tool()=['ROT13_encoder']\n"
     ]
    }
   ],
   "source": [
    "from agentgenius.builtin_tools import *\n",
    "\n",
    "# print(f\"{get_builtin_tools_tool()=}\")\n",
    "print(f\"{get_all_tools_tool()=}\")\n",
    "print(f\"{get_all_agents_tool()=}\")"
   ]
  }
 ],
 "metadata": {
  "kernelspec": {
   "display_name": ".venv",
   "language": "python",
   "name": "python3"
  },
  "language_info": {
   "codemirror_mode": {
    "name": "ipython",
    "version": 3
   },
   "file_extension": ".py",
   "mimetype": "text/x-python",
   "name": "python",
   "nbconvert_exporter": "python",
   "pygments_lexer": "ipython3",
   "version": "3.12.8"
  }
 },
 "nbformat": 4,
 "nbformat_minor": 2
}
