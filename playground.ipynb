{
 "cells": [
  {
   "cell_type": "markdown",
   "metadata": {},
   "source": [
    "# PLAYGROUND for AgentGENius"
   ]
  },
  {
   "cell_type": "code",
   "execution_count": 1,
   "metadata": {},
   "outputs": [
    {
     "data": {
      "text/plain": [
       "True"
      ]
     },
     "execution_count": 1,
     "metadata": {},
     "output_type": "execute_result"
    }
   ],
   "source": [
    "from datetime import date\n",
    "\n",
    "import nest_asyncio\n",
    "from dotenv import load_dotenv\n",
    "from pydantic_ai import RunContext, Tool\n",
    "\n",
    "from agentgenius.agents import AgentStore, BaseAgent\n",
    "from agentgenius.config import config\n",
    "from agentgenius.core import AgentGENius\n",
    "from agentgenius.tools import ToolSet\n",
    "\n",
    "nest_asyncio.apply()\n",
    "load_dotenv()"
   ]
  },
  {
   "cell_type": "markdown",
   "metadata": {},
   "source": [
    "## Testing AgentStore "
   ]
  },
  {
   "cell_type": "code",
   "execution_count": 2,
   "metadata": {},
   "outputs": [
    {
     "name": "stdout",
     "output_type": "stream",
     "text": [
      "tool_agent\n",
      "```python\n",
      "def write_hello_world():\n",
      "    return \"Hello, World!\"\n",
      "\n",
      "# Execute the function and display the result\n",
      "result = write_hello_world()\n",
      "result\n",
      "```\n"
     ]
    }
   ],
   "source": [
    "ags = AgentStore(config.agents_path).load_agents()\n",
    "# ags.add(AgentGENius.from_file(config.agents_path / \"assistant.json\"))\n",
    "a = ags.list()[0]\n",
    "print(a)\n",
    "if agent := ags[a]:\n",
    "    print(agent.run_sync(\"write hello world\").data)"
   ]
  },
  {
   "cell_type": "markdown",
   "metadata": {},
   "source": [
    "## Using tools"
   ]
  },
  {
   "cell_type": "code",
   "execution_count": 3,
   "metadata": {},
   "outputs": [
    {
     "data": {
      "text/plain": [
       "True"
      ]
     },
     "execution_count": 3,
     "metadata": {},
     "output_type": "execute_result"
    }
   ],
   "source": [
    "def encode_rot13(input_string):\n",
    "    \"\"\"Encode a string using ROT13.\"\"\"\n",
    "    import codecs\n",
    "\n",
    "    return codecs.encode(input_string, \"rot_13\")\n",
    "\n",
    "\n",
    "# check signature if function is plain\n",
    "a = encode_rot13\n",
    "import inspect\n",
    "\n",
    "signature = inspect.signature(a)\n",
    "signature.parameters.keys()\n",
    "not any(\"RunContext\" in str(signature.parameters[t].annotation) for t in signature.parameters.keys())"
   ]
  },
  {
   "cell_type": "code",
   "execution_count": 4,
   "metadata": {},
   "outputs": [
    {
     "name": "stdout",
     "output_type": "stream",
     "text": [
      "ToolSet(['ask_agent', 'encode_rot13']) \n",
      "\n",
      "Juvfcref bs frpergf,  \n",
      "Uvqqra va gur pbqrq yvarf,  \n",
      "Gehgu hairvyrq va gvzr.   \n",
      "\n",
      "Whispers of secrets,  \n",
      "Hidden in the coded lines,  \n",
      "Truth unveiled in time.  \n"
     ]
    }
   ],
   "source": [
    "agent = AgentGENius(name=\"rot13encoder\", model=\"openai:gpt-4o-mini\", system_prompt=\"you write everything in rot13\")\n",
    "\n",
    "# add tool to toolset manually\n",
    "agent.toolset.add(encode_rot13)\n",
    "\n",
    "\n",
    "# or use decorator\n",
    "@agent.tool_plain\n",
    "def ask_user_tool(question: str) -> str:\n",
    "    \"\"\"Ask the user a question\"\"\"\n",
    "    return input(question + \" \")\n",
    "\n",
    "\n",
    "print(agent.toolset, \"\\n\")\n",
    "result = agent.run_sync(\"tell me a haiku about ciphers\")\n",
    "print(result.data, \"\\n\")\n",
    "print(encode_rot13(result.data))"
   ]
  },
  {
   "cell_type": "markdown",
   "metadata": {},
   "source": [
    "## Testing ToolSet"
   ]
  },
  {
   "cell_type": "code",
   "execution_count": 5,
   "metadata": {},
   "outputs": [],
   "source": [
    "def test_tool(value: int) -> str:\n",
    "    return str(value)\n",
    "\n",
    "\n",
    "tools = ToolSet(test_tool)\n",
    "\n",
    "tool = tools.get(\"test_tool\")\n",
    "assert tool(10) == \"10\"\n",
    "\n",
    "assert \"test_tool2\" not in tools\n",
    "assert \"test_tool\" in tools\n",
    "assert test_tool in tools\n",
    "\n",
    "tools.remove(\"test_tool\")\n",
    "tool = tools.get(\"test_tool\")\n",
    "assert tool is None"
   ]
  },
  {
   "cell_type": "markdown",
   "metadata": {},
   "source": [
    "## Testing Serialization"
   ]
  },
  {
   "cell_type": "code",
   "execution_count": 11,
   "metadata": {},
   "outputs": [
    {
     "name": "stdout",
     "output_type": "stream",
     "text": [
      "agent.to_json()='{\"name\":\"assistant\",\"model\":\"openai:gpt-4o-mini\",\"system_prompt\":\"You are a helpful assistant.\",\"toolset\":[\"ask_user_tool\",\"ask_agent\"]}'\n",
      "agent2.to_json()='{\"name\":\"assistant\",\"model\":\"openai:gpt-4o-mini\",\"system_prompt\":\"You are a helpful assistant.\",\"toolset\":[\"ask_agent\"]}'\n",
      "The current date is December 30, 2024.\n",
      "I can't provide the current date directly. However, you can easily find out the current date by checking your device's calendar or doing a quick online search.\n"
     ]
    }
   ],
   "source": [
    "def ask_user_tool(ctx: RunContext[str], question: str) -> str:\n",
    "    \"\"\"Ask the user a question\"\"\"\n",
    "    return input(question + \" \")\n",
    "\n",
    "\n",
    "tools = ToolSet(ask_user_tool)\n",
    "\n",
    "agent = AgentGENius(\n",
    "    name=\"assistant\", model=\"openai:gpt-4o-mini\", system_prompt=\"You are a helpful assistant.\", toolset=tools\n",
    ")\n",
    "\n",
    "\n",
    "# the date will be injected into the system prompt, but only for the first agent\n",
    "@agent.system_prompt\n",
    "def inject_date() -> str:\n",
    "    return f\"The date is {date.today()}.\"\n",
    "\n",
    "\n",
    "print(f\"{agent.to_json()=}\")\n",
    "\n",
    "j = agent.to_json()\n",
    "agent2 = BaseAgent.from_json(j)\n",
    "\n",
    "\n",
    "print(f\"{agent2.to_json()=}\")\n",
    "# Agents toolsets aren't the same, it's not working in the notebook for some reason\n",
    "\n",
    "print(agent.run_sync(\"What is the current date?\").data)\n",
    "print(agent2.run_sync(\"What is the current date?\").data)"
   ]
  }
 ],
 "metadata": {
  "kernelspec": {
   "display_name": ".venv",
   "language": "python",
   "name": "python3"
  },
  "language_info": {
   "codemirror_mode": {
    "name": "ipython",
    "version": 3
   },
   "file_extension": ".py",
   "mimetype": "text/x-python",
   "name": "python",
   "nbconvert_exporter": "python",
   "pygments_lexer": "ipython3",
   "version": "3.12.8"
  }
 },
 "nbformat": 4,
 "nbformat_minor": 2
}
